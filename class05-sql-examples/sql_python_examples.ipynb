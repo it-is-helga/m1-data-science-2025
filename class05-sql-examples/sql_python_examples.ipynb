{
 "cells": [
  {
   "cell_type": "code",
   "execution_count": 2,
   "id": "43b8345e",
   "metadata": {},
   "outputs": [],
   "source": [
    "import sqlite3\n",
    "conn = sqlite3.connect('example_2.db')\n",
    "c = conn.cursor()\n",
    "# Create table\n",
    "c.execute(\"\"\"CREATE TABLE stocks\n",
    "    (date text, trans text, symbol text, qty real, price real)\"\"\")\n",
    "# Insert a row of data\n",
    "c.execute(\"\"\"INSERT INTO stocks\n",
    "    VALUES ('2006-01-05','BUY','RHAT',100,35.14)\"\"\")\n",
    "# Save (commit) the changes and then close the connection\n",
    "conn.commit()\n",
    "conn.close()"
   ]
  },
  {
   "cell_type": "code",
   "execution_count": 3,
   "id": "cffb8955",
   "metadata": {},
   "outputs": [
    {
     "name": "stdout",
     "output_type": "stream",
     "text": [
      "[('2006-01-05', 'BUY', 'RHAT', 100.0, 35.14)]\n"
     ]
    }
   ],
   "source": [
    "conn = sqlite3.connect('example_2.db')\n",
    "c = conn.cursor()\n",
    "# Create table\n",
    "# Save (commit) the changes and then close the connection\n",
    "curs = c.execute(\"SELECT * FROM stocks\")\n",
    "res = curs.fetchall()\n",
    "print(res)\n",
    "conn.close()"
   ]
  },
  {
   "cell_type": "code",
   "execution_count": 7,
   "id": "99b78db8",
   "metadata": {},
   "outputs": [
    {
     "name": "stdout",
     "output_type": "stream",
     "text": [
      "(SELECT price FROM stocks WHERE trans='BUY')\n",
      "[('2006-01-05', 'BUY', 'RHAT', 100.0, 35.14), ('2006-01-05', 'BUY', 'RHAT', 100.0, 56.0), ('2006-01-05', 'BUY', 'RHAT', 100.0, 35.14), ('2006-01-05', 'BUY', 'RHAT', 100.0, 35.14)]\n"
     ]
    }
   ],
   "source": [
    "import sqlite3\n",
    "conn = sqlite3.connect('example_2.db')\n",
    "c = conn.cursor()\n",
    "# Create table\n",
    "a = input()\n",
    "\n",
    "c.execute(f\"\"\"INSERT INTO stocks\n",
    "    VALUES ('2006-01-05','BUY','RHAT',100,{a})\"\"\")\n",
    "# Save (commit) the changes and then close the connection\n",
    "curs = c.execute(\"SELECT * FROM stocks\")\n",
    "res = curs.fetchall()\n",
    "print(res)\n",
    "#try (SELECT price FROM stocks WHERE trans='BUY')\n",
    "conn.commit()\n",
    "conn.close()"
   ]
  },
  {
   "cell_type": "code",
   "execution_count": 8,
   "id": "af406650",
   "metadata": {},
   "outputs": [
    {
     "name": "stdout",
     "output_type": "stream",
     "text": [
      "Requirement already satisfied: sqlalchemy in /home/anna/Documents/PhDWork/Teaching/ex-env/lib/python3.8/site-packages (2.0.1)\r\n",
      "Requirement already satisfied: typing-extensions>=4.2.0 in /home/anna/Documents/PhDWork/Teaching/ex-env/lib/python3.8/site-packages (from sqlalchemy) (4.4.0)\r\n",
      "Requirement already satisfied: greenlet!=0.4.17; platform_machine == \"aarch64\" or (platform_machine == \"ppc64le\" or (platform_machine == \"x86_64\" or (platform_machine == \"amd64\" or (platform_machine == \"AMD64\" or (platform_machine == \"win32\" or platform_machine == \"WIN32\"))))) in /home/anna/Documents/PhDWork/Teaching/ex-env/lib/python3.8/site-packages (from sqlalchemy) (2.0.2)\r\n"
     ]
    }
   ],
   "source": [
    "!pip install sqlalchemy"
   ]
  },
  {
   "cell_type": "code",
   "execution_count": 10,
   "id": "d089bd20",
   "metadata": {},
   "outputs": [
    {
     "name": "stderr",
     "output_type": "stream",
     "text": [
      "/tmp/ipykernel_352178/2729954081.py:5: MovedIn20Warning: The ``declarative_base()`` function is now available as sqlalchemy.orm.declarative_base(). (deprecated since: 2.0) (Background on SQLAlchemy 2.0 at: https://sqlalche.me/e/b8d9)\n",
      "  Base = declarative_base()\n"
     ]
    }
   ],
   "source": [
    "from sqlalchemy import Column,ForeignKey,Integer,String\n",
    "from sqlalchemy.ext.declarative import declarative_base\n",
    "from sqlalchemy.orm import relationship\n",
    "from sqlalchemy import create_engine,PrimaryKeyConstraint\n",
    "Base = declarative_base()\n",
    "class Actor(Base):\n",
    "  __tablename__ = 'actor'\n",
    "  # Each column is also a python instance attribute\n",
    "  actor_id = Column(Integer, primary_key=True)\n",
    "  name     = Column(String(250), nullable=False)\n",
    "class Film(Base):\n",
    "  __tablename__ = 'film'\n",
    "  film_id = Column(Integer, primary_key=True)\n",
    "  title   = Column(String(250), nullable=False)\n",
    "  genre  = Column(String(250))"
   ]
  },
  {
   "cell_type": "code",
   "execution_count": 11,
   "id": "1c711c48",
   "metadata": {},
   "outputs": [],
   "source": [
    "class Actor_film_mapping(Base):\n",
    "  __tablename__ = 'actor_film_mapping'\n",
    "  actor = relationship(Actor)\n",
    "  film  = relationship(Film)\n",
    "  actor_id = Column(Integer, ForeignKey('actor.actor_id'))\n",
    "  film_id  = Column(Integer, ForeignKey('film.film_id'))\n",
    "  __table_args__ = (\n",
    "    PrimaryKeyConstraint('actor_id', 'film_id'),\n",
    "  )\n",
    "# Create an engine that stores data in the local\n",
    "# directory's example.db file.\n",
    "engine = create_engine('sqlite:///example_3.db')\n",
    "# Create all tables in the engine. This is equivalent\n",
    "# to \"Create Table\" statements in raw SQL.\n",
    "Base.metadata.create_all(engine)"
   ]
  },
  {
   "cell_type": "code",
   "execution_count": 13,
   "id": "997bab2d",
   "metadata": {},
   "outputs": [],
   "source": [
    "from sqlalchemy import create_engine\n",
    "from sqlalchemy.orm import sessionmaker\n",
    "#from base import Actor, Film, Actor_film_mapping, Base\n",
    "engine = create_engine('sqlite:///example_3.db')\n",
    "# Bind the engine to the metadata of the Base\n",
    "# class from base.py\n",
    "Base.metadata.bind = engine\n",
    "DBSession = sessionmaker(bind=engine)\n",
    "session = DBSession()\n",
    "# Insert an actor in the actor table\n",
    "actor1 = Actor(name='Smith, John')\n",
    "session.add(actor1)\n",
    "session.commit()"
   ]
  },
  {
   "cell_type": "code",
   "execution_count": 14,
   "id": "b9e9186d",
   "metadata": {},
   "outputs": [],
   "source": [
    "from sqlalchemy import create_engine\n",
    "from sqlalchemy.orm import sessionmaker\n",
    "#from base import Actor, Film, Actor_film_mapping, Base\n",
    "engine = create_engine('sqlite:///example_3.db')\n",
    "# Bind the engine to the metadata of the Base\n",
    "# class from base.py\n",
    "Base.metadata.bind = engine\n",
    "DBSession = sessionmaker(bind=engine)\n",
    "session = DBSession()\n",
    "# Insert a film in the film table\n",
    "film1 = Film(title='Hello world', genre='documentary')\n",
    "session.add(film1)\n",
    "session.commit()"
   ]
  },
  {
   "cell_type": "code",
   "execution_count": 49,
   "id": "9cdcdff3",
   "metadata": {},
   "outputs": [],
   "source": [
    "from sqlalchemy import create_engine\n",
    "from sqlalchemy.orm import sessionmaker\n",
    "#from base import Actor, Film, Actor_film_mapping, Base\n",
    "engine = create_engine('sqlite:///example_3.db')\n",
    "# Bind the engine to the metadata of the Base\n",
    "# class from base.py\n",
    "Base.metadata.bind = engine\n",
    "DBSession = sessionmaker(bind=engine)\n",
    "session = DBSession()\n",
    "# Insert an actor in the actor table\n",
    "rel = Actor_film_mapping(actor_id=1, film_id=1)\n",
    "session.add(rel)\n",
    "session.commit()"
   ]
  },
  {
   "cell_type": "code",
   "execution_count": 16,
   "id": "c98a6f01",
   "metadata": {},
   "outputs": [
    {
     "name": "stdout",
     "output_type": "stream",
     "text": [
      "Smith, John\n"
     ]
    },
    {
     "data": {
      "text/plain": [
       "<__main__.Actor_film_mapping at 0x7efc61b92220>"
      ]
     },
     "execution_count": 16,
     "metadata": {},
     "output_type": "execute_result"
    }
   ],
   "source": [
    "#from base import Actor, Film, Actor_film_mapping, Base\n",
    "from sqlalchemy.orm import sessionmaker\n",
    "from sqlalchemy import create_engine\n",
    "engine = create_engine('sqlite:///example_3.db')\n",
    "Base.metadata.bind = engine\n",
    "DBSession = sessionmaker(bind = engine)\n",
    "session = DBSession()\n",
    "actor1 = session.query(Actor).first()\n",
    "print(actor1.name) #'Smith, John'\n",
    "session.query(Actor_film_mapping).filter(Actor_film_mapping.actor_id == actor1.actor_id).all()[0]"
   ]
  },
  {
   "cell_type": "code",
   "execution_count": 17,
   "id": "12072ae8",
   "metadata": {},
   "outputs": [],
   "source": [
    "obj = session.query(Actor_film_mapping).filter(Actor_film_mapping.actor_id == actor1.actor_id).all()[0]"
   ]
  },
  {
   "cell_type": "code",
   "execution_count": 18,
   "id": "ed9fd71e",
   "metadata": {},
   "outputs": [
    {
     "data": {
      "text/plain": [
       "'Hello world'"
      ]
     },
     "execution_count": 18,
     "metadata": {},
     "output_type": "execute_result"
    }
   ],
   "source": [
    "obj.film.title"
   ]
  },
  {
   "cell_type": "code",
   "execution_count": 19,
   "id": "342ecd44",
   "metadata": {},
   "outputs": [
    {
     "data": {
      "text/plain": [
       "['__abstract__',\n",
       " '__class__',\n",
       " '__delattr__',\n",
       " '__dict__',\n",
       " '__dir__',\n",
       " '__doc__',\n",
       " '__eq__',\n",
       " '__format__',\n",
       " '__ge__',\n",
       " '__getattribute__',\n",
       " '__gt__',\n",
       " '__hash__',\n",
       " '__init__',\n",
       " '__init_subclass__',\n",
       " '__le__',\n",
       " '__lt__',\n",
       " '__mapper__',\n",
       " '__module__',\n",
       " '__ne__',\n",
       " '__new__',\n",
       " '__reduce__',\n",
       " '__reduce_ex__',\n",
       " '__repr__',\n",
       " '__setattr__',\n",
       " '__sizeof__',\n",
       " '__str__',\n",
       " '__subclasshook__',\n",
       " '__table__',\n",
       " '__table_args__',\n",
       " '__tablename__',\n",
       " '__weakref__',\n",
       " '_sa_class_manager',\n",
       " '_sa_instance_state',\n",
       " '_sa_registry',\n",
       " 'actor',\n",
       " 'actor_id',\n",
       " 'film',\n",
       " 'film_id',\n",
       " 'metadata',\n",
       " 'registry']"
      ]
     },
     "execution_count": 19,
     "metadata": {},
     "output_type": "execute_result"
    }
   ],
   "source": [
    "dir(obj)"
   ]
  },
  {
   "cell_type": "code",
   "execution_count": null,
   "id": "309898da",
   "metadata": {},
   "outputs": [],
   "source": []
  }
 ],
 "metadata": {
  "kernelspec": {
   "display_name": "Python 3 (ipykernel)",
   "language": "python",
   "name": "python3"
  },
  "language_info": {
   "codemirror_mode": {
    "name": "ipython",
    "version": 3
   },
   "file_extension": ".py",
   "mimetype": "text/x-python",
   "name": "python",
   "nbconvert_exporter": "python",
   "pygments_lexer": "ipython3",
   "version": "3.8.10"
  }
 },
 "nbformat": 4,
 "nbformat_minor": 5
}
