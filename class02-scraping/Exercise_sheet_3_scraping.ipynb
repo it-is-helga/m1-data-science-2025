{
 "cells": [
  {
   "cell_type": "markdown",
   "id": "b721495e",
   "metadata": {},
   "source": [
    "# Exercise Sheet \\#3\n",
    "\n",
    "\n",
    "## Exercise 1. Quotes: manual scraping\n",
    "\n",
    "In this exercise, you are required to compile a dataset of biographies taken from http://quotes.toscrape.com.\n",
    "Recall this website displays 10 quotes per page, together with a link to their author's biography. This will be a step by step guide.\n",
    "\n",
    "#### 1.1 Getting URLs of authors' pages\n",
    "\n",
    "To get a list of URLs pointing at author pages, you will process quotes' pages. \n",
    "\n",
    "To do so, first complete the function get_links below which expects as parameter:\n",
    "\n",
    "* `url` the URL of a page from quotes.toscrape.com\n",
    "\n",
    "and returns:\n",
    "\n",
    "* `authors` the list of links to author pages contained in the given quotes' page (beware of duplicates!)"
   ]
  },
  {
   "cell_type": "code",
   "execution_count": 14,
   "id": "2acd76fd",
   "metadata": {},
   "outputs": [
    {
     "name": "stdout",
     "output_type": "stream",
     "text": [
      "{'Albert Einstein': 'http://quotes.toscrape.com/author/Albert-Einstein', 'J.K. Rowling': 'http://quotes.toscrape.com/author/J-K-Rowling', 'Jane Austen': 'http://quotes.toscrape.com/author/Jane-Austen', 'Marilyn Monroe': 'http://quotes.toscrape.com/author/Marilyn-Monroe', 'André Gide': 'http://quotes.toscrape.com/author/Andre-Gide', 'Thomas A. Edison': 'http://quotes.toscrape.com/author/Thomas-A-Edison', 'Eleanor Roosevelt': 'http://quotes.toscrape.com/author/Eleanor-Roosevelt', 'Steve Martin': 'http://quotes.toscrape.com/author/Steve-Martin', 'Bob Marley': 'http://quotes.toscrape.com/author/Bob-Marley', 'Dr. Seuss': 'http://quotes.toscrape.com/author/Dr-Seuss', 'Douglas Adams': 'http://quotes.toscrape.com/author/Douglas-Adams', 'Elie Wiesel': 'http://quotes.toscrape.com/author/Elie-Wiesel', 'Friedrich Nietzsche': 'http://quotes.toscrape.com/author/Friedrich-Nietzsche', 'Mark Twain': 'http://quotes.toscrape.com/author/Mark-Twain', 'Allen Saunders': 'http://quotes.toscrape.com/author/Allen-Saunders', 'Pablo Neruda': 'http://quotes.toscrape.com/author/Pablo-Neruda', 'Ralph Waldo Emerson': 'http://quotes.toscrape.com/author/Ralph-Waldo-Emerson', 'Mother Teresa': 'http://quotes.toscrape.com/author/Mother-Teresa', 'Garrison Keillor': 'http://quotes.toscrape.com/author/Garrison-Keillor', 'Jim Henson': 'http://quotes.toscrape.com/author/Jim-Henson', 'Charles M. Schulz': 'http://quotes.toscrape.com/author/Charles-M-Schulz', 'William Nicholson': 'http://quotes.toscrape.com/author/William-Nicholson', 'Jorge Luis Borges': 'http://quotes.toscrape.com/author/Jorge-Luis-Borges', 'George Eliot': 'http://quotes.toscrape.com/author/George-Eliot', 'George R.R. Martin': 'http://quotes.toscrape.com/author/George-R-R-Martin', 'C.S. Lewis': 'http://quotes.toscrape.com/author/C-S-Lewis', 'Martin Luther King Jr.': 'http://quotes.toscrape.com/author/Martin-Luther-King-Jr', 'James Baldwin': 'http://quotes.toscrape.com/author/James-Baldwin', 'Haruki Murakami': 'http://quotes.toscrape.com/author/Haruki-Murakami', 'Alexandre Dumas fils': 'http://quotes.toscrape.com/author/Alexandre-Dumas-fils', 'Stephenie Meyer': 'http://quotes.toscrape.com/author/Stephenie-Meyer', 'Ernest Hemingway': 'http://quotes.toscrape.com/author/Ernest-Hemingway', 'Helen Keller': 'http://quotes.toscrape.com/author/Helen-Keller', 'George Bernard Shaw': 'http://quotes.toscrape.com/author/George-Bernard-Shaw', 'Charles Bukowski': 'http://quotes.toscrape.com/author/Charles-Bukowski', 'Suzanne Collins': 'http://quotes.toscrape.com/author/Suzanne-Collins', 'J.R.R. Tolkien': 'http://quotes.toscrape.com/author/J-R-R-Tolkien', 'Alfred Tennyson': 'http://quotes.toscrape.com/author/Alfred-Tennyson', 'Terry Pratchett': 'http://quotes.toscrape.com/author/Terry-Pratchett', 'J.D. Salinger': 'http://quotes.toscrape.com/author/J-D-Salinger', 'George Carlin': 'http://quotes.toscrape.com/author/George-Carlin', 'John Lennon': 'http://quotes.toscrape.com/author/John-Lennon', 'W.C. Fields': 'http://quotes.toscrape.com/author/W-C-Fields', 'Ayn Rand': 'http://quotes.toscrape.com/author/Ayn-Rand', 'Jimi Hendrix': 'http://quotes.toscrape.com/author/Jimi-Hendrix', 'J.M. Barrie': 'http://quotes.toscrape.com/author/J-M-Barrie', 'E.E. Cummings': 'http://quotes.toscrape.com/author/E-E-Cummings', 'Khaled Hosseini': 'http://quotes.toscrape.com/author/Khaled-Hosseini', 'Harper Lee': 'http://quotes.toscrape.com/author/Harper-Lee', \"Madeleine L'Engle\": 'http://quotes.toscrape.com/author/Madeleine-LEngle'}\n"
     ]
    }
   ],
   "source": [
    "import requests, re\n",
    "from bs4 import BeautifulSoup\n",
    "\n",
    "BASE_URL = 'http://quotes.toscrape.com'\n",
    "\n",
    "def get_links(url):\n",
    "    # authors = []\n",
    "    authors = {}\n",
    "    for i in range(1, 11):\n",
    "        url = f'http://quotes.toscrape.com/page/{i}/'\n",
    "        # Get page located at url:\n",
    "        ua = {'User-agent': 'Mozilla/5.0'}\n",
    "        page = requests.get(url, headers=ua)\n",
    "        soup = BeautifulSoup(page.content, 'html.parser')\n",
    "\n",
    "        #Get all links corresponding to authors:\n",
    "        for para in soup.find_all('div', class_='quote'):\n",
    "            author = para.find('small', class_='author').text.strip()\n",
    "            if authors.get(author) == None:\n",
    "                link_href = para.find('a')['href']\n",
    "                authors[author] = BASE_URL+link_href\n",
    "    # title_tag = para.find(\"a\", title=True)\n",
    "    # link = title_tag.get(\"href\")\n",
    "    # print(title_tag, link)\n",
    "    # for para in soup.find_all('quote'):\n",
    "    #     title_tag = para.find(\"a\", title=True)\n",
    "    #     link = title_tag.get(\"href\")\n",
    "    \n",
    "    #Loop over these:\n",
    "    \n",
    "        #if a link is not in authors, add it:\n",
    "        \n",
    "    #Return results\n",
    "    return authors\n",
    "\n",
    "#Test:\n",
    "authors = get_links(BASE_URL)\n",
    "print(authors)"
   ]
  },
  {
   "cell_type": "markdown",
   "id": "6b5770d1",
   "metadata": {},
   "source": [
    "#### IMPLEMENTED IN 1.1 1.2 iterate over pages of quotes\n",
    "\n",
    "In a second step, fill the `collect` function below, which will iteratively collect author links. This function will take as input parameters:\n",
    "- `url`: the starting url from which to collect links,\n",
    "- `authors`: the list of links to be updated\n",
    "- `limit`: the number of pages to visit (default being `None`, which means visit all pages)"
   ]
  },
  {
   "cell_type": "code",
   "execution_count": 2,
   "id": "ae83d7e0",
   "metadata": {},
   "outputs": [
    {
     "name": "stdout",
     "output_type": "stream",
     "text": [
      "[]\n"
     ]
    }
   ],
   "source": [
    "def collect(url, authors, limit=None):\n",
    "    #Add links contained in page located at url to the authors being computed\n",
    "    authors.extend([x for x in get_links(url) if x not in authors])\n",
    "    #If no limit is given or limit > 1\n",
    "\n",
    "        # Get page located at url:\n",
    "\n",
    "        # Get url of next page\n",
    "\n",
    "        # recursively collect links (if any)\n",
    "\n",
    "# Test\n",
    "authors = []\n",
    "collect(BASE_URL, authors, limit=2)\n",
    "print(authors)"
   ]
  },
  {
   "cell_type": "markdown",
   "id": "c3c8631f",
   "metadata": {},
   "source": [
    "#### Question 1.3 : get actual biographies\n",
    "\n",
    "For each of the links computed in the previous question, retrieve the corresponding webpage and extract the biography it contains. To do so, fill the `get_biography` function below. It will feed a list of dictionaries of the following form:\n",
    "```python\n",
    "bios = [{name: '...', birth_date: '...', birth_place: '...', bio: '...'}, ...]\n",
    "```"
   ]
  },
  {
   "cell_type": "code",
   "execution_count": 24,
   "id": "8a9e3d1e",
   "metadata": {},
   "outputs": [
    {
     "name": "stdout",
     "output_type": "stream",
     "text": [
      "[{'name': 'Albert Einstein', 'birth_date': 'March 14, 1879', 'birth_place': 'in Ulm, Germany', 'bio': 'In 1879, Albert Einstein was born in Ulm, Germany. He completed his Ph.D. at the University of Zurich by 1909. His 1905 paper explaining the photoelectric effect, the basis of electronics, earned him the Nobel Prize in 1921. His first paper on Special Relativity Theory, also published in 1905, changed the world. After the rise of the Nazi party, Einstein made Princeton his permanent home, becoming a U.S. citizen in 1940. Einstein, a pacifist during World War I, stayed a firm proponent of social justice and responsibility. He chaired the Emergency Committee of Atomic Scientists, which organized to alert the public to the dangers of atomic warfare.At a symposium, he advised: \"In their struggle for the ethical good, teachers of religion must have the stature to give up the doctrine of a personal God, that is, give up that source of fear and hope which in the past placed such vast power in the hands of priests. In their labors they will have to avail themselves of those forces which are capable of cultivating the Good, the True, and the Beautiful in humanity itself. This is, to be sure a more difficult but an incomparably more worthy task . . . \" (\"Science, Philosophy and Religion, A Symposium,\" published by the Conference on Science, Philosophy and Religion in their Relation to the Democratic Way of Life, Inc., New York, 1941). In a letter to philosopher Eric Gutkind, dated Jan. 3, 1954, Einstein stated: \"The word god is for me nothing more than the expression and product of human weaknesses, the Bible a collection of honorable, but still primitive legends which are nevertheless pretty childish. No interpretation no matter how subtle can (for me) change this,\" (The Guardian, \"Childish superstition: Einstein\\'s letter makes view of religion relatively clear,\" by James Randerson, May 13, 2008). D. 1955.While best known for his mass–energy equivalence formula E = mc2 (which has been dubbed \"the world\\'s most famous equation\"), he received the 1921 Nobel Prize in Physics \"for his services to theoretical physics, and especially for his discovery of the law of the photoelectric effect\". The latter was pivotal in establishing quantum theory.Einstein thought that Newtonion mechanics was no longer enough to reconcile the laws of classical mechanics with the laws of the electromagnetic field. This led to the development of his special theory of relativity. He realized, however, that the principle of relativity could also be extended to gravitational fields, and with his subsequent theory of gravitation in 1916, he published a paper on the general theory of relativity. He continued to deal with problems of statistical mechanics and quantum theory, which led to his explanations of particle theory and the motion of molecules. He also investigated the thermal properties of light which laid the foundation of the photon theory of light.He was visiting the United States when Adolf Hitler came to power in 1933 and did not go back to Germany. On the eve of World War II, he endorsed a letter to President Franklin D. Roosevelt alerting him to the potential development of \"extremely powerful bombs of a new type\" and recommending that the U.S. begin similar research. This eventually led to what would become the Manhattan Project. Einstein supported defending the Allied forces, but largely denounced the idea of using the newly discovered nuclear fission as a weapon. Later, with Bertrand Russell, Einstein signed the Russell–Einstein Manifesto, which highlighted the danger of nuclear weapons. Einstein was affiliated with the Institute for Advanced Study in Princeton, New Jersey, until his death in 1955.His great intellectual achievements and originality have made the word \"Einstein\" synonymous with genius.More: http://en.wikipedia.org/wiki/Albert_E...http://www.nobelprize.org/nobel_prize...'}, {'name': 'J.K. Rowling', 'birth_date': 'July 31, 1965', 'birth_place': 'in Yate, South Gloucestershire, England, The United Kingdom', 'bio': 'See also: Robert GalbraithAlthough she writes under the pen name J.K. Rowling, pronounced like rolling, her name when her first Harry Potter book was published was simply Joanne Rowling. Anticipating that the target audience of young boys might not want to read a book written by a woman, her publishers demanded that she use two initials, rather than her full name. As she had no middle name, she chose K as the second initial of her pen name, from her paternal grandmother Kathleen Ada Bulgen Rowling. She calls herself Jo and has said, \"No one ever called me \\'Joanne\\' when I was young, unless they were angry.\" Following her marriage, she has sometimes used the name Joanne Murray when conducting personal business. During the Leveson Inquiry she gave evidence under the name of Joanne Kathleen Rowling. In a 2012 interview, Rowling noted that she no longer cared that people pronounced her name incorrectly.Rowling was born to Peter James Rowling, a Rolls-Royce aircraft engineer, and Anne Rowling (née Volant), on 31 July 1965 in Yate, Gloucestershire, England, 10 miles (16 km) northeast of Bristol. Her mother Anne was half-French and half-Scottish. Her parents first met on a train departing from King\\'s Cross Station bound for Arbroath in 1964. They married on 14 March 1965. Her mother\\'s maternal grandfather, Dugald Campbell, was born in Lamlash on the Isle of Arran. Her mother\\'s paternal grandfather, Louis Volant, was awarded the Croix de Guerre for exceptional bravery in defending the village of Courcelles-le-Comte during the First World War.Rowling\\'s sister Dianne was born at their home when Rowling was 23 months old. The family moved to the nearby village Winterbourne when Rowling was four. She attended St Michael\\'s Primary School, a school founded by abolitionist William Wilberforce and education reformer Hannah More. Her headmaster at St Michael\\'s, Alfred Dunn, has been suggested as the inspiration for the Harry Potter headmaster Albus Dumbledore.As a child, Rowling often wrote fantasy stories, which she would usually then read to her sister. She recalls that: \"I can still remember me telling her a story in which she fell down a rabbit hole and was fed strawberries by the rabbit family inside it. Certainly the first story I ever wrote down (when I was five or six) was about a rabbit called Rabbit. He got the measles and was visited by his friends, including a giant bee called Miss Bee.\" At the age of nine, Rowling moved to Church Cottage in the Gloucestershire village of Tutshill, close to Chepstow, Wales. When she was a young teenager, her great aunt, who Rowling said \"taught classics and approved of a thirst for knowledge, even of a questionable kind,\" gave her a very old copy of Jessica Mitford\\'s autobiography, Hons and Rebels. Mitford became Rowling\\'s heroine, and Rowling subsequently read all of her books.Rowling has said of her teenage years, in an interview with The New Yorker, \"I wasn’t particularly happy. I think it’s a dreadful time of life.\" She had a difficult homelife; her mother was ill and she had a difficult relationship with her father (she is no longer on speaking terms with him). She attended secondary school at Wyedean School and College, where her mother had worked as a technician in the science department. Rowling said of her adolescence, \"Hermione [a bookish, know-it-all Harry Potter character] is loosely based on me. She\\'s a caricature of me when I was eleven, which I\\'m not particularly proud of.\" Steve Eddy, who taught Rowling English when she first arrived, remembers her as \"not exceptional\" but \"one of a group of girls who were bright, and quite good at English.\" Sean Harris, her best friend in the Upper Sixth owned a turquoise Ford Anglia, which she says inspired the one in her books.'}, {'name': 'Jane Austen', 'birth_date': 'December 16, 1775', 'birth_place': 'in Steventon Rectory, Hampshire, The United Kingdom', 'bio': \"Jane Austen was an English novelist whose works of romantic fiction, set among the landed gentry, earned her a place as one of the most widely read writers in English literature, her realism and biting social commentary cementing her historical importance among scholars and critics.Austen lived her entire life as part of a close-knit family located on the lower fringes of the English landed gentry. She was educated primarily by her father and older brothers as well as through her own reading. The steadfast support of her family was critical to her development as a professional writer. Her artistic apprenticeship lasted from her teenage years until she was about 35 years old. During this period, she experimented with various literary forms, including the epistolary novel which she tried then abandoned, and wrote and extensively revised three major novels and began a fourth. From 1811 until 1816, with the release of Sense and Sensibility (1811), Pride and Prejudice (1813), Mansfield Park (1814) and Emma (1815), she achieved success as a published writer. She wrote two additional novels, Northanger Abbey and Persuasion, both published posthumously in 1818, and began a third, which was eventually titled Sanditon, but died before completing it.Austen's works critique the novels of sensibility of the second half of the 18th century and are part of the transition to 19th-century realism. Her plots, though fundamentally comic, highlight the dependence of women on marriage to secure social standing and economic security. Her work brought her little personal fame and only a few positive reviews during her lifetime, but the publication in 1869 of her nephew's A Memoir of Jane Austen introduced her to a wider public, and by the 1940s she had become widely accepted in academia as a great English writer. The second half of the 20th century saw a proliferation of Austen scholarship and the emergence of a Janeite fan culture.\"}, {'name': 'Marilyn Monroe', 'birth_date': 'June 01, 1926', 'birth_place': 'in The United States', 'bio': 'Marilyn Monroe (born Norma Jeane Mortenson; June 1, 1926 – August 5, 1962) was an American actress, model, and singer, who became a major sex symbol, starring in a number of commercially successful motion pictures during the 1950s and early 1960s.After spending much of her childhood in foster homes, Monroe began a career as a model, which led to a film contract in 1946 with Twentieth Century-Fox. Her early film appearances were minor, but her performances in The Asphalt Jungle and All About Eve (both 1950), drew attention. By 1952 she had her first leading role in Don\\'t Bother to Knock and 1953 brought a lead in Niagara, a melodramatic film noir that dwelt on her seductiveness. Her \"dumb blonde\" persona was used to comic effect in subsequent films such as Gentlemen Prefer Blondes (1953), How to Marry a Millionaire (1953) and The Seven Year Itch (1955). Limited by typecasting, Monroe studied at the Actors Studio to broaden her range. Her dramatic performance in Bus Stop (1956) was hailed by critics and garnered a Golden Globe nomination. Her production company, Marilyn Monroe Productions, released The Prince and the Showgirl (1957), for which she received a BAFTA Award nomination and won a David di Donatello award. She received a Golden Globe Award for her performance in Some Like It Hot (1959). Monroe\\'s last completed film was The Misfits, co-starring Clark Gable with screenplay by her then-husband, Arthur Miller.Marilyn was a passionate reader, owning four hundred books at the time of her death, and was often photographed with a book.The final years of Monroe\\'s life were marked by illness, personal problems, and a reputation for unreliability and being difficult to work with. The circumstances of her death, from an overdose of barbiturates, have been the subject of conjecture. Though officially classified as a \"probable suicide\", the possibility of an accidental overdose, as well as of homicide, have not been ruled out. In 1999, Monroe was ranked as the sixth greatest female star of all time by the American Film Institute. In the decades following her death, she has often been cited as both a pop and a cultural icon as well as the quintessential American sex symbol.'}, {'name': 'André Gide', 'birth_date': 'November 22, 1869', 'birth_place': 'in Paris, France', 'bio': \"André Paul Guillaume Gide was a French author and winner of the Nobel Prize in literature in 1947. Gide's career ranged from its beginnings in the symbolist movement, to the advent of anticolonialism between the two World Wars.Known for his fiction as well as his autobiographical works, Gide exposes to public view the conflict and eventual reconciliation between the two sides of his personality, split apart by a straight-laced education and a narrow social moralism. Gide's work can be seen as an investigation of freedom and empowerment in the face of moralistic and puritan constraints, and gravitates around his continuous effort to achieve intellectual honesty. His self-exploratory texts reflect his search of how to be fully oneself, even to the point of owning one's sexual nature, without at the same time betraying one's values. His political activity is informed by the same ethos, as suggested by his repudiation of communism after his 1936 voyage to the USSR.\"}, {'name': 'Thomas A. Edison', 'birth_date': 'February 11, 1847', 'birth_place': 'in Milan, Ohio, The United States', 'bio': 'Thomas Alva Edison was an American inventor, scientist and businessman who developed many devices that greatly influenced life around the world, including the phonograph, the motion picture camera, and a long-lasting, practical electric light bulb. Dubbed \"The Wizard of Menlo Park\" (now Edison, New Jersey) by a newspaper reporter, he was one of the first inventors to apply the principles of mass production and large teamwork to the process of invention, and therefore is often credited with the creation of the first industrial research laboratory.Edison is considered one of the most prolific inventors in history, holding 1,093 U.S. patents in his name, as well as many patents in the United Kingdom, France and Germany. He is credited with numerous inventions that contributed to mass communication and, in particular, telecommunications. His advanced work in these fields was an outgrowth of his early career as a telegraph operator. Edison originated the concept and implementation of electric-power generation and distribution to homes, businesses, and factories – a crucial development in the modern industrialized world. His first power station was on Manhattan Island, New York.'}]\n"
     ]
    }
   ],
   "source": [
    "def get_biography(url):\n",
    "    # Get page located at URL and parse it\n",
    "    ua = {'User-agent': 'Mozilla/5.0'}\n",
    "    page = requests.get(url, headers=ua)\n",
    "    soup = BeautifulSoup(page.content, 'html.parser')\n",
    "    \n",
    "    # Get name with BeautifulSoup\n",
    "    para = soup.find('div', class_='author-details')\n",
    "    # print(para.prettify)\n",
    "    name = para.find('h3', class_='author-title').get_text(strip=True) \n",
    "    # Get birth date\n",
    "    temp = para.find('p')\n",
    "    birth_date = temp.find('span', class_='author-born-date').get_text(strip=True)\n",
    "    # birth_date = birth_date.get('author-born-date')\n",
    "    # Get birth place\n",
    "    birth_place= temp.find('span', class_='author-born-location').get_text(strip=True)\n",
    "    # Get bio\n",
    "    bio = soup.find('div', class_='author-description').get_text(strip=True)\n",
    "    return {'name':name, 'birth_date': birth_date, 'birth_place': birth_place, 'bio': bio}\n",
    "\n",
    "def get_bios(urls):\n",
    "    bios = []\n",
    "    for u in urls:\n",
    "        bios.append(get_biography(u))\n",
    "    return bios\n",
    "\n",
    "#Test\n",
    "bios=get_bios(list(authors.values())[0:6])\n",
    "print(bios)"
   ]
  },
  {
   "cell_type": "markdown",
   "id": "16092ec8",
   "metadata": {},
   "source": [
    "#### Question 1.4: save your dataset\n",
    "\n",
    "Finally, write a `save` function which takes as an input a list of biographies as computed above and save them in JSON on disk (the filename being an input parameter)."
   ]
  },
  {
   "cell_type": "code",
   "execution_count": null,
   "id": "8e83157e",
   "metadata": {},
   "outputs": [],
   "source": []
  },
  {
   "cell_type": "code",
   "execution_count": 25,
   "id": "6ddfe7c5",
   "metadata": {},
   "outputs": [],
   "source": [
    "import json"
   ]
  },
  {
   "cell_type": "code",
   "execution_count": 28,
   "id": "411b95fc",
   "metadata": {},
   "outputs": [
    {
     "name": "stdout",
     "output_type": "stream",
     "text": [
      "[\n",
      "  {\n",
      "    \"name\": \"Albert Einstein\",\n",
      "    \"birth_date\": \"March 14, 1879\",\n",
      "    \"birth_place\": \"in Ulm, Germany\",\n",
      "    \"bio\": \"In 1879, Albert Einstein was born in Ulm, Germany. He completed his Ph.D. at the University of Zurich by 1909. His 1905 paper explaining the photoelectric effect, the basis of electronics, earned him the Nobel Prize in 1921. His first paper on Special Relativity Theory, also published in 1905, changed the world. After the rise of the Nazi party, Einstein made Princeton his permanent home, becoming a U.S. citizen in 1940. Einstein, a pacifist during World War I, stayed a firm proponent of social justice and responsibility. He chaired the Emergency Committee of Atomic Scientists, which organized to alert the public to the dangers of atomic warfare.At a symposium, he advised: \\\"In their struggle for the ethical good, teachers of religion must have the stature to give up the doctrine of a personal God, that is, give up that source of fear and hope which in the past placed such vast power in the hands of priests. In their labors they will have to avail themselves of those forces which are capable of cultivating the Good, the True, and the Beautiful in humanity itself. This is, to be sure a more difficult but an incomparably more worthy task . . . \\\" (\\\"Science, Philosophy and Religion, A Symposium,\\\" published by the Conference on Science, Philosophy and Religion in their Relation to the Democratic Way of Life, Inc., New York, 1941). In a letter to philosopher Eric Gutkind, dated Jan. 3, 1954, Einstein stated: \\\"The word god is for me nothing more than the expression and product of human weaknesses, the Bible a collection of honorable, but still primitive legends which are nevertheless pretty childish. No interpretation no matter how subtle can (for me) change this,\\\" (The Guardian, \\\"Childish superstition: Einstein's letter makes view of religion relatively clear,\\\" by James Randerson, May 13, 2008). D. 1955.While best known for his mass\\u2013energy equivalence formula E = mc2 (which has been dubbed \\\"the world's most famous equation\\\"), he received the 1921 Nobel Prize in Physics \\\"for his services to theoretical physics, and especially for his discovery of the law of the photoelectric effect\\\". The latter was pivotal in establishing quantum theory.Einstein thought that Newtonion mechanics was no longer enough to reconcile the laws of classical mechanics with the laws of the electromagnetic field. This led to the development of his special theory of relativity. He realized, however, that the principle of relativity could also be extended to gravitational fields, and with his subsequent theory of gravitation in 1916, he published a paper on the general theory of relativity. He continued to deal with problems of statistical mechanics and quantum theory, which led to his explanations of particle theory and the motion of molecules. He also investigated the thermal properties of light which laid the foundation of the photon theory of light.He was visiting the United States when Adolf Hitler came to power in 1933 and did not go back to Germany. On the eve of World War II, he endorsed a letter to President Franklin D. Roosevelt alerting him to the potential development of \\\"extremely powerful bombs of a new type\\\" and recommending that the U.S. begin similar research. This eventually led to what would become the Manhattan Project. Einstein supported defending the Allied forces, but largely denounced the idea of using the newly discovered nuclear fission as a weapon. Later, with Bertrand Russell, Einstein signed the Russell\\u2013Einstein Manifesto, which highlighted the danger of nuclear weapons. Einstein was affiliated with the Institute for Advanced Study in Princeton, New Jersey, until his death in 1955.His great intellectual achievements and originality have made the word \\\"Einstein\\\" synonymous with genius.More: http://en.wikipedia.org/wiki/Albert_E...http://www.nobelprize.org/nobel_prize...\"\n",
      "  },\n",
      "  {\n",
      "    \"name\": \"J.K. Rowling\",\n",
      "    \"birth_date\": \"July 31, 1965\",\n",
      "    \"birth_place\": \"in Yate, South Gloucestershire, England, The United Kingdom\",\n",
      "    \"bio\": \"See also: Robert GalbraithAlthough she writes under the pen name J.K. Rowling, pronounced like rolling, her name when her first Harry Potter book was published was simply Joanne Rowling. Anticipating that the target audience of young boys might not want to read a book written by a woman, her publishers demanded that she use two initials, rather than her full name. As she had no middle name, she chose K as the second initial of her pen name, from her paternal grandmother Kathleen Ada Bulgen Rowling. She calls herself Jo and has said, \\\"No one ever called me 'Joanne' when I was young, unless they were angry.\\\" Following her marriage, she has sometimes used the name Joanne Murray when conducting personal business. During the Leveson Inquiry she gave evidence under the name of Joanne Kathleen Rowling. In a 2012 interview, Rowling noted that she no longer cared that people pronounced her name incorrectly.Rowling was born to Peter James Rowling, a Rolls-Royce aircraft engineer, and Anne Rowling (n\\u00e9e Volant), on 31 July 1965 in Yate, Gloucestershire, England, 10 miles (16 km) northeast of Bristol. Her mother Anne was half-French and half-Scottish. Her parents first met on a train departing from King's Cross Station bound for Arbroath in 1964. They married on 14 March 1965. Her mother's maternal grandfather, Dugald Campbell, was born in Lamlash on the Isle of Arran. Her mother's paternal grandfather, Louis Volant, was awarded the Croix de Guerre for exceptional bravery in defending the village of Courcelles-le-Comte during the First World War.Rowling's sister Dianne was born at their home when Rowling was 23 months old. The family moved to the nearby village Winterbourne when Rowling was four. She attended St Michael's Primary School, a school founded by abolitionist William Wilberforce and education reformer Hannah More. Her headmaster at St Michael's, Alfred Dunn, has been suggested as the inspiration for the Harry Potter headmaster Albus Dumbledore.As a child, Rowling often wrote fantasy stories, which she would usually then read to her sister. She recalls that: \\\"I can still remember me telling her a story in which she fell down a rabbit hole and was fed strawberries by the rabbit family inside it. Certainly the first story I ever wrote down (when I was five or six) was about a rabbit called Rabbit. He got the measles and was visited by his friends, including a giant bee called Miss Bee.\\\" At the age of nine, Rowling moved to Church Cottage in the Gloucestershire village of Tutshill, close to Chepstow, Wales. When she was a young teenager, her great aunt, who Rowling said \\\"taught classics and approved of a thirst for knowledge, even of a questionable kind,\\\" gave her a very old copy of Jessica Mitford's autobiography, Hons and Rebels. Mitford became Rowling's heroine, and Rowling subsequently read all of her books.Rowling has said of her teenage years, in an interview with The New Yorker, \\\"I wasn\\u2019t particularly happy. I think it\\u2019s a dreadful time of life.\\\" She had a difficult homelife; her mother was ill and she had a difficult relationship with her father (she is no longer on speaking terms with him). She attended secondary school at Wyedean School and College, where her mother had worked as a technician in the science department. Rowling said of her adolescence, \\\"Hermione [a bookish, know-it-all Harry Potter character] is loosely based on me. She's a caricature of me when I was eleven, which I'm not particularly proud of.\\\" Steve Eddy, who taught Rowling English when she first arrived, remembers her as \\\"not exceptional\\\" but \\\"one of a group of girls who were bright, and quite good at English.\\\" Sean Harris, her best friend in the Upper Sixth owned a turquoise Ford Anglia, which she says inspired the one in her books.\"\n",
      "  },\n",
      "  {\n",
      "    \"name\": \"Jane Austen\",\n",
      "    \"birth_date\": \"December 16, 1775\",\n",
      "    \"birth_place\": \"in Steventon Rectory, Hampshire, The United Kingdom\",\n",
      "    \"bio\": \"Jane Austen was an English novelist whose works of romantic fiction, set among the landed gentry, earned her a place as one of the most widely read writers in English literature, her realism and biting social commentary cementing her historical importance among scholars and critics.Austen lived her entire life as part of a close-knit family located on the lower fringes of the English landed gentry. She was educated primarily by her father and older brothers as well as through her own reading. The steadfast support of her family was critical to her development as a professional writer. Her artistic apprenticeship lasted from her teenage years until she was about 35 years old. During this period, she experimented with various literary forms, including the epistolary novel which she tried then abandoned, and wrote and extensively revised three major novels and began a fourth. From 1811 until 1816, with the release of Sense and Sensibility (1811), Pride and Prejudice (1813), Mansfield Park (1814) and Emma (1815), she achieved success as a published writer. She wrote two additional novels, Northanger Abbey and Persuasion, both published posthumously in 1818, and began a third, which was eventually titled Sanditon, but died before completing it.Austen's works critique the novels of sensibility of the second half of the 18th century and are part of the transition to 19th-century realism. Her plots, though fundamentally comic, highlight the dependence of women on marriage to secure social standing and economic security. Her work brought her little personal fame and only a few positive reviews during her lifetime, but the publication in 1869 of her nephew's A Memoir of Jane Austen introduced her to a wider public, and by the 1940s she had become widely accepted in academia as a great English writer. The second half of the 20th century saw a proliferation of Austen scholarship and the emergence of a Janeite fan culture.\"\n",
      "  },\n",
      "  {\n",
      "    \"name\": \"Marilyn Monroe\",\n",
      "    \"birth_date\": \"June 01, 1926\",\n",
      "    \"birth_place\": \"in The United States\",\n",
      "    \"bio\": \"Marilyn Monroe (born Norma Jeane Mortenson; June 1, 1926 \\u2013 August 5, 1962) was an American actress, model, and singer, who became a major sex symbol, starring in a number of commercially successful motion pictures during the 1950s and early 1960s.After spending much of her childhood in foster homes, Monroe began a career as a model, which led to a film contract in 1946 with Twentieth Century-Fox. Her early film appearances were minor, but her performances in The Asphalt Jungle and All About Eve (both 1950), drew attention. By 1952 she had her first leading role in Don't Bother to Knock and 1953 brought a lead in Niagara, a melodramatic film noir that dwelt on her seductiveness. Her \\\"dumb blonde\\\" persona was used to comic effect in subsequent films such as Gentlemen Prefer Blondes (1953), How to Marry a Millionaire (1953) and The Seven Year Itch (1955). Limited by typecasting, Monroe studied at the Actors Studio to broaden her range. Her dramatic performance in Bus Stop (1956) was hailed by critics and garnered a Golden Globe nomination. Her production company, Marilyn Monroe Productions, released The Prince and the Showgirl (1957), for which she received a BAFTA Award nomination and won a David di Donatello award. She received a Golden Globe Award for her performance in Some Like It Hot (1959). Monroe's last completed film was The Misfits, co-starring Clark Gable with screenplay by her then-husband, Arthur Miller.Marilyn was a passionate reader, owning four hundred books at the time of her death, and was often photographed with a book.The final years of Monroe's life were marked by illness, personal problems, and a reputation for unreliability and being difficult to work with. The circumstances of her death, from an overdose of barbiturates, have been the subject of conjecture. Though officially classified as a \\\"probable suicide\\\", the possibility of an accidental overdose, as well as of homicide, have not been ruled out. In 1999, Monroe was ranked as the sixth greatest female star of all time by the American Film Institute. In the decades following her death, she has often been cited as both a pop and a cultural icon as well as the quintessential American sex symbol.\"\n",
      "  },\n",
      "  {\n",
      "    \"name\": \"Andr\\u00e9 Gide\",\n",
      "    \"birth_date\": \"November 22, 1869\",\n",
      "    \"birth_place\": \"in Paris, France\",\n",
      "    \"bio\": \"Andr\\u00e9 Paul Guillaume Gide was a French author and winner of the Nobel Prize in literature in 1947. Gide's career ranged from its beginnings in the symbolist movement, to the advent of anticolonialism between the two World Wars.Known for his fiction as well as his autobiographical works, Gide exposes to public view the conflict and eventual reconciliation between the two sides of his personality, split apart by a straight-laced education and a narrow social moralism. Gide's work can be seen as an investigation of freedom and empowerment in the face of moralistic and puritan constraints, and gravitates around his continuous effort to achieve intellectual honesty. His self-exploratory texts reflect his search of how to be fully oneself, even to the point of owning one's sexual nature, without at the same time betraying one's values. His political activity is informed by the same ethos, as suggested by his repudiation of communism after his 1936 voyage to the USSR.\"\n",
      "  },\n",
      "  {\n",
      "    \"name\": \"Thomas A. Edison\",\n",
      "    \"birth_date\": \"February 11, 1847\",\n",
      "    \"birth_place\": \"in Milan, Ohio, The United States\",\n",
      "    \"bio\": \"Thomas Alva Edison was an American inventor, scientist and businessman who developed many devices that greatly influenced life around the world, including the phonograph, the motion picture camera, and a long-lasting, practical electric light bulb. Dubbed \\\"The Wizard of Menlo Park\\\" (now Edison, New Jersey) by a newspaper reporter, he was one of the first inventors to apply the principles of mass production and large teamwork to the process of invention, and therefore is often credited with the creation of the first industrial research laboratory.Edison is considered one of the most prolific inventors in history, holding 1,093 U.S. patents in his name, as well as many patents in the United Kingdom, France and Germany. He is credited with numerous inventions that contributed to mass communication and, in particular, telecommunications. His advanced work in these fields was an outgrowth of his early career as a telegraph operator. Edison originated the concept and implementation of electric-power generation and distribution to homes, businesses, and factories \\u2013 a crucial development in the modern industrialized world. His first power station was on Manhattan Island, New York.\"\n",
      "  }\n",
      "]\n"
     ]
    }
   ],
   "source": [
    "def save(filename, dataset):\n",
    "    # Open output file\n",
    "    json_string = json.dumps(bios, indent=2)\n",
    "    print(json_string)\n",
    "    with open(filename, 'w') as f:\n",
    "        # f.write('\\n'.join(column_str))\n",
    "        json.dump(bios, f, indent=2)\n",
    "    # write data in JSON format\n",
    "    # pass #remove when ready\n",
    "\n",
    "save('bios.json', bios)"
   ]
  },
  {
   "cell_type": "markdown",
   "id": "5b70760d",
   "metadata": {},
   "source": [
    "## Exercise 2. Let's use Scrapy now!\n",
    "\n",
    "Here the goal is to play with scrapy. Let's look at the wikipedia article https://en.wikipedia.org/wiki/List_of_French_artists. Let's say, we want to extract all names of artists from here with links to their corresponding wikipedia pages and the first paragraph about them.\n",
    "\n",
    "You will find a file called `Exercise_sheet_3_scrapy.py`. Can you fill in the gaps in this script?\n",
    "\n",
    "\n",
    "In addition to the Scrapy documentation I highly recommend you to look at possible selectors: https://www.w3schools.com/cssref/css_selectors.php"
   ]
  },
  {
   "cell_type": "code",
   "execution_count": 29,
   "id": "8b927fde",
   "metadata": {},
   "outputs": [
    {
     "name": "stdout",
     "output_type": "stream",
     "text": [
      "Defaulting to user installation because normal site-packages is not writeable\n",
      "Collecting scrapy\n",
      "  Downloading Scrapy-2.12.0-py2.py3-none-any.whl (311 kB)\n",
      "\u001b[2K     \u001b[90m━━━━━━━━━━━━━━━━━━━━━━━━━━━━━━━━━━━━━━━\u001b[0m \u001b[32m311.2/311.2 KB\u001b[0m \u001b[31m4.3 MB/s\u001b[0m eta \u001b[36m0:00:00\u001b[0m00:01\u001b[0m00:01\u001b[0m\n",
      "\u001b[?25hCollecting lxml>=4.6.0\n",
      "  Downloading lxml-5.3.0-cp310-cp310-manylinux_2_28_x86_64.whl (5.0 MB)\n",
      "\u001b[2K     \u001b[90m━━━━━━━━━━━━━━━━━━━━━━━━━━━━━━━━━━━━━━━━\u001b[0m \u001b[32m5.0/5.0 MB\u001b[0m \u001b[31m9.9 MB/s\u001b[0m eta \u001b[36m0:00:00\u001b[0m:00:01\u001b[0m00:01\u001b[0m\n",
      "\u001b[?25hCollecting tldextract\n",
      "  Downloading tldextract-5.1.3-py3-none-any.whl (104 kB)\n",
      "\u001b[2K     \u001b[90m━━━━━━━━━━━━━━━━━━━━━━━━━━━━━━━━━━━━━━━\u001b[0m \u001b[32m104.9/104.9 KB\u001b[0m \u001b[31m6.7 MB/s\u001b[0m eta \u001b[36m0:00:00\u001b[0m\n",
      "\u001b[?25hCollecting PyDispatcher>=2.0.5\n",
      "  Downloading PyDispatcher-2.0.7-py3-none-any.whl (12 kB)\n",
      "Collecting cryptography>=37.0.0\n",
      "  Downloading cryptography-44.0.0-cp39-abi3-manylinux_2_28_x86_64.whl (4.2 MB)\n",
      "\u001b[2K     \u001b[90m━━━━━━━━━━━━━━━━━━━━━━━━━━━━━━━━━━━━━━━━\u001b[0m \u001b[32m4.2/4.2 MB\u001b[0m \u001b[31m10.2 MB/s\u001b[0m eta \u001b[36m0:00:00\u001b[0m00:01\u001b[0m00:01\u001b[0m\n",
      "\u001b[?25hCollecting parsel>=1.5.0\n",
      "  Downloading parsel-1.10.0-py2.py3-none-any.whl (17 kB)\n",
      "Collecting w3lib>=1.17.0\n",
      "  Downloading w3lib-2.2.1-py3-none-any.whl (21 kB)\n",
      "Collecting pyOpenSSL>=22.0.0\n",
      "  Downloading pyOpenSSL-25.0.0-py3-none-any.whl (56 kB)\n",
      "\u001b[2K     \u001b[90m━━━━━━━━━━━━━━━━━━━━━━━━━━━━━━━━━━━━━━━━\u001b[0m \u001b[32m56.5/56.5 KB\u001b[0m \u001b[31m7.7 MB/s\u001b[0m eta \u001b[36m0:00:00\u001b[0m\n",
      "\u001b[?25hCollecting itemadapter>=0.1.0\n",
      "  Downloading itemadapter-0.10.0-py3-none-any.whl (11 kB)\n",
      "Collecting itemloaders>=1.0.1\n",
      "  Downloading itemloaders-1.3.2-py3-none-any.whl (12 kB)\n",
      "Collecting zope.interface>=5.1.0\n",
      "  Downloading zope.interface-7.2-cp310-cp310-manylinux_2_5_x86_64.manylinux1_x86_64.manylinux_2_17_x86_64.manylinux2014_x86_64.whl (254 kB)\n",
      "\u001b[2K     \u001b[90m━━━━━━━━━━━━━━━━━━━━━━━━━━━━━━━━━━━━━━━\u001b[0m \u001b[32m254.5/254.5 KB\u001b[0m \u001b[31m9.4 MB/s\u001b[0m eta \u001b[36m0:00:00\u001b[0m\n",
      "\u001b[?25hRequirement already satisfied: packaging in /home/tacit/.local/lib/python3.10/site-packages (from scrapy) (24.2)\n",
      "Collecting cssselect>=0.9.1\n",
      "  Downloading cssselect-1.2.0-py2.py3-none-any.whl (18 kB)\n",
      "Collecting service-identity>=18.1.0\n",
      "  Downloading service_identity-24.2.0-py3-none-any.whl (11 kB)\n",
      "Collecting defusedxml>=0.7.1\n",
      "  Downloading defusedxml-0.7.1-py2.py3-none-any.whl (25 kB)\n",
      "Collecting protego>=0.1.15\n",
      "  Downloading Protego-0.4.0-py2.py3-none-any.whl (8.6 kB)\n",
      "Collecting queuelib>=1.4.2\n",
      "  Downloading queuelib-1.7.0-py2.py3-none-any.whl (13 kB)\n",
      "Collecting Twisted>=21.7.0\n",
      "  Downloading twisted-24.11.0-py3-none-any.whl (3.2 MB)\n",
      "\u001b[2K     \u001b[90m━━━━━━━━━━━━━━━━━━━━━━━━━━━━━━━━━━━━━━━━\u001b[0m \u001b[32m3.2/3.2 MB\u001b[0m \u001b[31m7.3 MB/s\u001b[0m eta \u001b[36m0:00:00\u001b[0m00:01\u001b[0m00:01\u001b[0mm\n",
      "\u001b[?25hCollecting cffi>=1.12\n",
      "  Downloading cffi-1.17.1-cp310-cp310-manylinux_2_17_x86_64.manylinux2014_x86_64.whl (446 kB)\n",
      "\u001b[2K     \u001b[90m━━━━━━━━━━━━━━━━━━━━━━━━━━━━━━━━━━━━━━━\u001b[0m \u001b[32m446.2/446.2 KB\u001b[0m \u001b[31m6.7 MB/s\u001b[0m eta \u001b[36m0:00:00\u001b[0ma \u001b[36m0:00:01\u001b[0m\n",
      "\u001b[?25hCollecting jmespath>=0.9.5\n",
      "  Downloading jmespath-1.0.1-py3-none-any.whl (20 kB)\n",
      "Requirement already satisfied: typing-extensions>=4.9 in /home/tacit/.local/lib/python3.10/site-packages (from pyOpenSSL>=22.0.0->scrapy) (4.12.2)\n",
      "Collecting pyasn1-modules\n",
      "  Downloading pyasn1_modules-0.4.1-py3-none-any.whl (181 kB)\n",
      "\u001b[2K     \u001b[90m━━━━━━━━━━━━━━━━━━━━━━━━━━━━━━━━━━━━━━━\u001b[0m \u001b[32m181.5/181.5 KB\u001b[0m \u001b[31m6.4 MB/s\u001b[0m eta \u001b[36m0:00:00\u001b[0m\n",
      "\u001b[?25hCollecting attrs>=19.1.0\n",
      "  Downloading attrs-24.3.0-py3-none-any.whl (63 kB)\n",
      "\u001b[2K     \u001b[90m━━━━━━━━━━━━━━━━━━━━━━━━━━━━━━━━━━━━━━━━\u001b[0m \u001b[32m63.4/63.4 KB\u001b[0m \u001b[31m7.2 MB/s\u001b[0m eta \u001b[36m0:00:00\u001b[0m\n",
      "\u001b[?25hCollecting pyasn1\n",
      "  Downloading pyasn1-0.6.1-py3-none-any.whl (83 kB)\n",
      "\u001b[2K     \u001b[90m━━━━━━━━━━━━━━━━━━━━━━━━━━━━━━━━━━━━━━━━\u001b[0m \u001b[32m83.1/83.1 KB\u001b[0m \u001b[31m8.6 MB/s\u001b[0m eta \u001b[36m0:00:00\u001b[0m\n",
      "\u001b[?25hCollecting automat>=24.8.0\n",
      "  Downloading Automat-24.8.1-py3-none-any.whl (42 kB)\n",
      "\u001b[2K     \u001b[90m━━━━━━━━━━━━━━━━━━━━━━━━━━━━━━━━━━━━━━━━\u001b[0m \u001b[32m42.6/42.6 KB\u001b[0m \u001b[31m3.0 MB/s\u001b[0m eta \u001b[36m0:00:00\u001b[0m\n",
      "\u001b[?25hCollecting hyperlink>=17.1.1\n",
      "  Downloading hyperlink-21.0.0-py2.py3-none-any.whl (74 kB)\n",
      "\u001b[2K     \u001b[90m━━━━━━━━━━━━━━━━━━━━━━━━━━━━━━━━━━━━━━━━\u001b[0m \u001b[32m74.6/74.6 KB\u001b[0m \u001b[31m11.8 MB/s\u001b[0m eta \u001b[36m0:00:00\u001b[0m\n",
      "\u001b[?25hCollecting constantly>=15.1\n",
      "  Downloading constantly-23.10.4-py3-none-any.whl (13 kB)\n",
      "Collecting incremental>=24.7.0\n",
      "  Downloading incremental-24.7.2-py3-none-any.whl (20 kB)\n",
      "Requirement already satisfied: setuptools in /usr/lib/python3/dist-packages (from zope.interface>=5.1.0->scrapy) (59.6.0)\n",
      "Requirement already satisfied: requests>=2.1.0 in /home/tacit/.local/lib/python3.10/site-packages (from tldextract->scrapy) (2.32.3)\n",
      "Collecting filelock>=3.0.8\n",
      "  Downloading filelock-3.16.1-py3-none-any.whl (16 kB)\n",
      "Collecting requests-file>=1.4\n",
      "  Downloading requests_file-2.1.0-py2.py3-none-any.whl (4.2 kB)\n",
      "Requirement already satisfied: idna in /home/tacit/.local/lib/python3.10/site-packages (from tldextract->scrapy) (3.10)\n",
      "Collecting pycparser\n",
      "  Downloading pycparser-2.22-py3-none-any.whl (117 kB)\n",
      "\u001b[2K     \u001b[90m━━━━━━━━━━━━━━━━━━━━━━━━━━━━━━━━━━━━━━━\u001b[0m \u001b[32m117.6/117.6 KB\u001b[0m \u001b[31m7.5 MB/s\u001b[0m eta \u001b[36m0:00:00\u001b[0m\n",
      "\u001b[?25hCollecting setuptools\n",
      "  Downloading setuptools-75.8.0-py3-none-any.whl (1.2 MB)\n",
      "\u001b[2K     \u001b[90m━━━━━━━━━━━━━━━━━━━━━━━━━━━━━━━━━━━━━━━━\u001b[0m \u001b[32m1.2/1.2 MB\u001b[0m \u001b[31m7.6 MB/s\u001b[0m eta \u001b[36m0:00:00\u001b[0ma \u001b[36m0:00:01\u001b[0mm\n",
      "\u001b[?25hCollecting tomli\n",
      "  Downloading tomli-2.2.1-py3-none-any.whl (14 kB)\n",
      "Requirement already satisfied: urllib3<3,>=1.21.1 in /home/tacit/.local/lib/python3.10/site-packages (from requests>=2.1.0->tldextract->scrapy) (2.3.0)\n",
      "Requirement already satisfied: certifi>=2017.4.17 in /home/tacit/.local/lib/python3.10/site-packages (from requests>=2.1.0->tldextract->scrapy) (2024.12.14)\n",
      "Requirement already satisfied: charset-normalizer<4,>=2 in /home/tacit/.local/lib/python3.10/site-packages (from requests>=2.1.0->tldextract->scrapy) (3.4.1)\n",
      "Installing collected packages: PyDispatcher, w3lib, tomli, setuptools, queuelib, pycparser, pyasn1, protego, lxml, jmespath, itemadapter, hyperlink, filelock, defusedxml, cssselect, constantly, automat, attrs, zope.interface, requests-file, pyasn1-modules, parsel, incremental, cffi, Twisted, tldextract, itemloaders, cryptography, service-identity, pyOpenSSL, scrapy\n",
      "Successfully installed PyDispatcher-2.0.7 Twisted-24.11.0 attrs-24.3.0 automat-24.8.1 cffi-1.17.1 constantly-23.10.4 cryptography-44.0.0 cssselect-1.2.0 defusedxml-0.7.1 filelock-3.16.1 hyperlink-21.0.0 incremental-24.7.2 itemadapter-0.10.0 itemloaders-1.3.2 jmespath-1.0.1 lxml-5.3.0 parsel-1.10.0 protego-0.4.0 pyOpenSSL-25.0.0 pyasn1-0.6.1 pyasn1-modules-0.4.1 pycparser-2.22 queuelib-1.7.0 requests-file-2.1.0 scrapy-2.12.0 service-identity-24.2.0 setuptools-75.8.0 tldextract-5.1.3 tomli-2.2.1 w3lib-2.2.1 zope.interface-7.2\n",
      "Note: you may need to restart the kernel to use updated packages.\n"
     ]
    }
   ],
   "source": [
    "%pip install scrapy"
   ]
  },
  {
   "cell_type": "code",
   "execution_count": 38,
   "id": "2fee6b88",
   "metadata": {},
   "outputs": [
    {
     "name": "stderr",
     "output_type": "stream",
     "text": [
      "2025-01-20 19:04:49 [scrapy.utils.log] INFO: Scrapy 2.12.0 started (bot: scrapybot)\n",
      "2025-01-20 19:04:49 [scrapy.utils.log] INFO: Versions: lxml 5.3.0.0, libxml2 2.12.9, cssselect 1.2.0, parsel 1.10.0, w3lib 2.2.1, Twisted 24.11.0, Python 3.10.12 (main, Nov  6 2024, 20:22:13) [GCC 11.4.0], pyOpenSSL 25.0.0 (OpenSSL 3.4.0 22 Oct 2024), cryptography 44.0.0, Platform Linux-5.15.153.1-microsoft-standard-WSL2-x86_64-with-glibc2.35\n",
      "2025-01-20 19:04:49 [scrapy.addons] INFO: Enabled addons:\n",
      "[]\n",
      "2025-01-20 19:04:49 [scrapy.utils.log] DEBUG: Using reactor: twisted.internet.epollreactor.EPollReactor\n",
      "2025-01-20 19:04:49 [scrapy.extensions.telnet] INFO: Telnet Password: fa1b8e23be628fe3\n",
      "2025-01-20 19:04:49 [scrapy.middleware] INFO: Enabled extensions:\n",
      "['scrapy.extensions.corestats.CoreStats',\n",
      " 'scrapy.extensions.telnet.TelnetConsole',\n",
      " 'scrapy.extensions.memusage.MemoryUsage',\n",
      " 'scrapy.extensions.feedexport.FeedExporter',\n",
      " 'scrapy.extensions.logstats.LogStats']\n",
      "2025-01-20 19:04:49 [scrapy.crawler] INFO: Overridden settings:\n",
      "{'USER_AGENT': 'Mozilla/5.0'}\n",
      "2025-01-20 19:04:49 [scrapy.middleware] INFO: Enabled downloader middlewares:\n",
      "['scrapy.downloadermiddlewares.offsite.OffsiteMiddleware',\n",
      " 'scrapy.downloadermiddlewares.httpauth.HttpAuthMiddleware',\n",
      " 'scrapy.downloadermiddlewares.downloadtimeout.DownloadTimeoutMiddleware',\n",
      " 'scrapy.downloadermiddlewares.defaultheaders.DefaultHeadersMiddleware',\n",
      " 'scrapy.downloadermiddlewares.useragent.UserAgentMiddleware',\n",
      " 'scrapy.downloadermiddlewares.retry.RetryMiddleware',\n",
      " 'scrapy.downloadermiddlewares.redirect.MetaRefreshMiddleware',\n",
      " 'scrapy.downloadermiddlewares.httpcompression.HttpCompressionMiddleware',\n",
      " 'scrapy.downloadermiddlewares.redirect.RedirectMiddleware',\n",
      " 'scrapy.downloadermiddlewares.cookies.CookiesMiddleware',\n",
      " 'scrapy.downloadermiddlewares.httpproxy.HttpProxyMiddleware',\n",
      " 'scrapy.downloadermiddlewares.stats.DownloaderStats']\n",
      "2025-01-20 19:04:49 [scrapy.middleware] INFO: Enabled spider middlewares:\n",
      "['scrapy.spidermiddlewares.httperror.HttpErrorMiddleware',\n",
      " 'scrapy.spidermiddlewares.referer.RefererMiddleware',\n",
      " 'scrapy.spidermiddlewares.urllength.UrlLengthMiddleware',\n",
      " 'scrapy.spidermiddlewares.depth.DepthMiddleware']\n",
      "2025-01-20 19:04:49 [scrapy.middleware] INFO: Enabled item pipelines:\n",
      "[]\n",
      "2025-01-20 19:04:49 [scrapy.core.engine] INFO: Spider opened\n",
      "2025-01-20 19:04:49 [scrapy.extensions.logstats] INFO: Crawled 0 pages (at 0 pages/min), scraped 0 items (at 0 items/min)\n",
      "2025-01-20 19:04:49 [scrapy.extensions.telnet] INFO: Telnet console listening on 127.0.0.1:6025\n"
     ]
    },
    {
     "ename": "ReactorNotRestartable",
     "evalue": "",
     "output_type": "error",
     "traceback": [
      "\u001b[0;31m---------------------------------------------------------------------------\u001b[0m",
      "\u001b[0;31mReactorNotRestartable\u001b[0m                     Traceback (most recent call last)",
      "Cell \u001b[0;32mIn[38], line 49\u001b[0m\n\u001b[1;32m     42\u001b[0m process \u001b[38;5;241m=\u001b[39m scrapy\u001b[38;5;241m.\u001b[39mcrawler\u001b[38;5;241m.\u001b[39mCrawlerProcess({\n\u001b[1;32m     43\u001b[0m     \u001b[38;5;124m'\u001b[39m\u001b[38;5;124mUSER_AGENT\u001b[39m\u001b[38;5;124m'\u001b[39m: \u001b[38;5;124m'\u001b[39m\u001b[38;5;124mMozilla/5.0\u001b[39m\u001b[38;5;124m'\u001b[39m,\n\u001b[1;32m     44\u001b[0m     \u001b[38;5;124m'\u001b[39m\u001b[38;5;124mFEEDS\u001b[39m\u001b[38;5;124m'\u001b[39m: {\n\u001b[1;32m     45\u001b[0m         \u001b[38;5;124m\"\u001b[39m\u001b[38;5;124martists.json\u001b[39m\u001b[38;5;124m\"\u001b[39m: {\u001b[38;5;124m\"\u001b[39m\u001b[38;5;124mformat\u001b[39m\u001b[38;5;124m\"\u001b[39m: \u001b[38;5;124m\"\u001b[39m\u001b[38;5;124mjson\u001b[39m\u001b[38;5;124m\"\u001b[39m},\n\u001b[1;32m     46\u001b[0m     },\n\u001b[1;32m     47\u001b[0m })\n\u001b[1;32m     48\u001b[0m process\u001b[38;5;241m.\u001b[39mcrawl(WikipediaSpider)\n\u001b[0;32m---> 49\u001b[0m \u001b[43mprocess\u001b[49m\u001b[38;5;241;43m.\u001b[39;49m\u001b[43mstart\u001b[49m\u001b[43m(\u001b[49m\u001b[43m)\u001b[49m\n\u001b[1;32m     50\u001b[0m process\u001b[38;5;241m.\u001b[39mstop()\n",
      "File \u001b[0;32m~/.local/lib/python3.10/site-packages/scrapy/crawler.py:496\u001b[0m, in \u001b[0;36mCrawlerProcess.start\u001b[0;34m(self, stop_after_crawl, install_signal_handlers)\u001b[0m\n\u001b[1;32m    492\u001b[0m \u001b[38;5;28;01mif\u001b[39;00m install_signal_handlers:\n\u001b[1;32m    493\u001b[0m     reactor\u001b[38;5;241m.\u001b[39maddSystemEventTrigger(\n\u001b[1;32m    494\u001b[0m         \u001b[38;5;124m\"\u001b[39m\u001b[38;5;124mafter\u001b[39m\u001b[38;5;124m\"\u001b[39m, \u001b[38;5;124m\"\u001b[39m\u001b[38;5;124mstartup\u001b[39m\u001b[38;5;124m\"\u001b[39m, install_shutdown_handlers, \u001b[38;5;28mself\u001b[39m\u001b[38;5;241m.\u001b[39m_signal_shutdown\n\u001b[1;32m    495\u001b[0m     )\n\u001b[0;32m--> 496\u001b[0m \u001b[43mreactor\u001b[49m\u001b[38;5;241;43m.\u001b[39;49m\u001b[43mrun\u001b[49m\u001b[43m(\u001b[49m\u001b[43minstallSignalHandlers\u001b[49m\u001b[38;5;241;43m=\u001b[39;49m\u001b[43minstall_signal_handlers\u001b[49m\u001b[43m)\u001b[49m\n",
      "File \u001b[0;32m~/.local/lib/python3.10/site-packages/twisted/internet/base.py:695\u001b[0m, in \u001b[0;36mReactorBase.run\u001b[0;34m(self, installSignalHandlers)\u001b[0m\n\u001b[1;32m    694\u001b[0m \u001b[38;5;28;01mdef\u001b[39;00m\u001b[38;5;250m \u001b[39m\u001b[38;5;21mrun\u001b[39m(\u001b[38;5;28mself\u001b[39m, installSignalHandlers: \u001b[38;5;28mbool\u001b[39m \u001b[38;5;241m=\u001b[39m \u001b[38;5;28;01mTrue\u001b[39;00m) \u001b[38;5;241m-\u001b[39m\u001b[38;5;241m>\u001b[39m \u001b[38;5;28;01mNone\u001b[39;00m:\n\u001b[0;32m--> 695\u001b[0m     \u001b[38;5;28;43mself\u001b[39;49m\u001b[38;5;241;43m.\u001b[39;49m\u001b[43mstartRunning\u001b[49m\u001b[43m(\u001b[49m\u001b[43minstallSignalHandlers\u001b[49m\u001b[38;5;241;43m=\u001b[39;49m\u001b[43minstallSignalHandlers\u001b[49m\u001b[43m)\u001b[49m\n\u001b[1;32m    696\u001b[0m     \u001b[38;5;28;01mtry\u001b[39;00m:\n\u001b[1;32m    697\u001b[0m         \u001b[38;5;28mself\u001b[39m\u001b[38;5;241m.\u001b[39mmainLoop()\n",
      "File \u001b[0;32m~/.local/lib/python3.10/site-packages/twisted/internet/base.py:926\u001b[0m, in \u001b[0;36mReactorBase.startRunning\u001b[0;34m(self, installSignalHandlers)\u001b[0m\n\u001b[1;32m    924\u001b[0m     \u001b[38;5;28;01mraise\u001b[39;00m error\u001b[38;5;241m.\u001b[39mReactorAlreadyRunning()\n\u001b[1;32m    925\u001b[0m \u001b[38;5;28;01mif\u001b[39;00m \u001b[38;5;28mself\u001b[39m\u001b[38;5;241m.\u001b[39m_startedBefore:\n\u001b[0;32m--> 926\u001b[0m     \u001b[38;5;28;01mraise\u001b[39;00m error\u001b[38;5;241m.\u001b[39mReactorNotRestartable()\n\u001b[1;32m    928\u001b[0m \u001b[38;5;28mself\u001b[39m\u001b[38;5;241m.\u001b[39m_signals\u001b[38;5;241m.\u001b[39muninstall()\n\u001b[1;32m    929\u001b[0m \u001b[38;5;28mself\u001b[39m\u001b[38;5;241m.\u001b[39m_installSignalHandlers \u001b[38;5;241m=\u001b[39m installSignalHandlers\n",
      "\u001b[0;31mReactorNotRestartable\u001b[0m: "
     ]
    }
   ],
   "source": [
    "import scrapy\n",
    "from scrapy.crawler import CrawlerRunner\n",
    "from scrapy.spiders import CrawlSpider, Rule\n",
    "from scrapy.linkextractors import LinkExtractor\n",
    "\n",
    "class WikipediaSpider(scrapy.Spider): #Something is missing here. What exactly?\n",
    "    def __init__(self):\n",
    "        self.name = \"wikipedia\"\n",
    "        self.start_urls = [\"https://en.wikipedia.org/wiki/List_of_French_artists\"]\n",
    "\n",
    "    def parse(self, response):\n",
    "        # print(f\"Response URL: {response.url}\")\n",
    "        # print(f\"Response status: {response.status}\")\n",
    "\n",
    "        list_els = response.css('ul > li > a::attr(href)').getall()\n",
    "        list_see_also = response.css('h2[id=\"See_also\"] + ul > li > a::attr(href)').getall()\n",
    "        res_list = list(set(list_els) - set(list_see_also))\n",
    "        for link in res_list:\n",
    "            #check that the link actually exists and is not red\n",
    "                yield response.follow(link, callback=self.parse_artist)\n",
    "        \n",
    "    def parse_artist(self, response):\n",
    "        url = response.url\n",
    "        name = response.css('h1.firstHeading::text').get().strip()\n",
    "        paragraph = response.css('p:first-child::text').get().strip()\n",
    "\n",
    "        yield {'url': url,\n",
    "            'name': name,\n",
    "            'paragraph': paragraph}\n",
    "        \n",
    "        # url = #get url of the page\n",
    "        # name = # get name of the artist\n",
    "        # paragraph = # get the first paragraph\n",
    "        # yield {'url': url,\n",
    "        #        'name': name,\n",
    "        #        'paragraph': paragraph}\n",
    "        \n",
    "        \n",
    "if __name__=='__main__':\n",
    "    import scrapy.crawler\n",
    "    \n",
    "    process = scrapy.crawler.CrawlerProcess({\n",
    "        'USER_AGENT': 'Mozilla/5.0',\n",
    "        'FEEDS': {\n",
    "            \"artists.json\": {\"format\": \"json\"},\n",
    "        },\n",
    "    })\n",
    "    process.crawl(WikipediaSpider)\n",
    "    process.start()\n",
    "    process.stop()"
   ]
  },
  {
   "cell_type": "code",
   "execution_count": null,
   "id": "49b75077",
   "metadata": {},
   "outputs": [
    {
     "name": "stderr",
     "output_type": "stream",
     "text": [
      "2025-01-20 18:37:58 [scrapy.utils.log] INFO: Scrapy 2.12.0 started (bot: scrapybot)\n",
      "2025-01-20 18:37:58 [scrapy.utils.log] INFO: Versions: lxml 5.3.0.0, libxml2 2.12.9, cssselect 1.2.0, parsel 1.10.0, w3lib 2.2.1, Twisted 24.11.0, Python 3.10.12 (main, Nov  6 2024, 20:22:13) [GCC 11.4.0], pyOpenSSL 25.0.0 (OpenSSL 3.4.0 22 Oct 2024), cryptography 44.0.0, Platform Linux-5.15.153.1-microsoft-standard-WSL2-x86_64-with-glibc2.35\n",
      "2025-01-20 18:37:58 [scrapy.addons] INFO: Enabled addons:\n",
      "[]\n",
      "2025-01-20 18:37:58 [scrapy.utils.log] DEBUG: Using reactor: twisted.internet.epollreactor.EPollReactor\n",
      "2025-01-20 18:37:58 [scrapy.extensions.telnet] INFO: Telnet Password: 0815e3f7991ab220\n"
     ]
    },
    {
     "name": "stderr",
     "output_type": "stream",
     "text": [
      "2025-01-20 18:37:58 [scrapy.middleware] INFO: Enabled extensions:\n",
      "['scrapy.extensions.corestats.CoreStats',\n",
      " 'scrapy.extensions.telnet.TelnetConsole',\n",
      " 'scrapy.extensions.memusage.MemoryUsage',\n",
      " 'scrapy.extensions.feedexport.FeedExporter',\n",
      " 'scrapy.extensions.logstats.LogStats']\n",
      "2025-01-20 18:37:58 [scrapy.crawler] INFO: Overridden settings:\n",
      "{'USER_AGENT': 'Mozilla/5.0'}\n",
      "2025-01-20 18:37:58 [scrapy.middleware] INFO: Enabled downloader middlewares:\n",
      "['scrapy.downloadermiddlewares.offsite.OffsiteMiddleware',\n",
      " 'scrapy.downloadermiddlewares.httpauth.HttpAuthMiddleware',\n",
      " 'scrapy.downloadermiddlewares.downloadtimeout.DownloadTimeoutMiddleware',\n",
      " 'scrapy.downloadermiddlewares.defaultheaders.DefaultHeadersMiddleware',\n",
      " 'scrapy.downloadermiddlewares.useragent.UserAgentMiddleware',\n",
      " 'scrapy.downloadermiddlewares.retry.RetryMiddleware',\n",
      " 'scrapy.downloadermiddlewares.redirect.MetaRefreshMiddleware',\n",
      " 'scrapy.downloadermiddlewares.httpcompression.HttpCompressionMiddleware',\n",
      " 'scrapy.downloadermiddlewares.redirect.RedirectMiddleware',\n",
      " 'scrapy.downloadermiddlewares.cookies.CookiesMiddleware',\n",
      " 'scrapy.downloadermiddlewares.httpproxy.HttpProxyMiddleware',\n",
      " 'scrapy.downloadermiddlewares.stats.DownloaderStats']\n",
      "2025-01-20 18:37:58 [scrapy.middleware] INFO: Enabled spider middlewares:\n",
      "['scrapy.spidermiddlewares.httperror.HttpErrorMiddleware',\n",
      " 'scrapy.spidermiddlewares.referer.RefererMiddleware',\n",
      " 'scrapy.spidermiddlewares.urllength.UrlLengthMiddleware',\n",
      " 'scrapy.spidermiddlewares.depth.DepthMiddleware']\n",
      "2025-01-20 18:37:58 [scrapy.middleware] INFO: Enabled item pipelines:\n",
      "[]\n",
      "2025-01-20 18:37:58 [scrapy.core.engine] INFO: Spider opened\n",
      "2025-01-20 18:37:58 [scrapy.extensions.logstats] INFO: Crawled 0 pages (at 0 pages/min), scraped 0 items (at 0 items/min)\n",
      "2025-01-20 18:37:58 [scrapy.extensions.telnet] INFO: Telnet console listening on 127.0.0.1:6023\n"
     ]
    },
    {
     "ename": "ReactorNotRestartable",
     "evalue": "",
     "output_type": "error",
     "traceback": [
      "\u001b[0;31m---------------------------------------------------------------------------\u001b[0m",
      "\u001b[0;31mReactorNotRestartable\u001b[0m                     Traceback (most recent call last)",
      "Cell \u001b[0;32mIn[35], line 10\u001b[0m\n\u001b[1;32m      3\u001b[0m process \u001b[38;5;241m=\u001b[39m scrapy\u001b[38;5;241m.\u001b[39mcrawler\u001b[38;5;241m.\u001b[39mCrawlerProcess({\n\u001b[1;32m      4\u001b[0m     \u001b[38;5;124m'\u001b[39m\u001b[38;5;124mUSER_AGENT\u001b[39m\u001b[38;5;124m'\u001b[39m: \u001b[38;5;124m'\u001b[39m\u001b[38;5;124mMozilla/5.0\u001b[39m\u001b[38;5;124m'\u001b[39m,\n\u001b[1;32m      5\u001b[0m     \u001b[38;5;124m'\u001b[39m\u001b[38;5;124mFEEDS\u001b[39m\u001b[38;5;124m'\u001b[39m: {\n\u001b[1;32m      6\u001b[0m         \u001b[38;5;124m\"\u001b[39m\u001b[38;5;124martists.json\u001b[39m\u001b[38;5;124m\"\u001b[39m: {\u001b[38;5;124m\"\u001b[39m\u001b[38;5;124mformat\u001b[39m\u001b[38;5;124m\"\u001b[39m: \u001b[38;5;124m\"\u001b[39m\u001b[38;5;124mjson\u001b[39m\u001b[38;5;124m\"\u001b[39m},\n\u001b[1;32m      7\u001b[0m     },\n\u001b[1;32m      8\u001b[0m })\n\u001b[1;32m      9\u001b[0m process\u001b[38;5;241m.\u001b[39mcrawl(WikipediaSpider)\n\u001b[0;32m---> 10\u001b[0m \u001b[43mprocess\u001b[49m\u001b[38;5;241;43m.\u001b[39;49m\u001b[43mstart\u001b[49m\u001b[43m(\u001b[49m\u001b[43m)\u001b[49m\n\u001b[1;32m     11\u001b[0m process\u001b[38;5;241m.\u001b[39mstop()\n",
      "File \u001b[0;32m~/.local/lib/python3.10/site-packages/scrapy/crawler.py:496\u001b[0m, in \u001b[0;36mCrawlerProcess.start\u001b[0;34m(self, stop_after_crawl, install_signal_handlers)\u001b[0m\n\u001b[1;32m    492\u001b[0m \u001b[38;5;28;01mif\u001b[39;00m install_signal_handlers:\n\u001b[1;32m    493\u001b[0m     reactor\u001b[38;5;241m.\u001b[39maddSystemEventTrigger(\n\u001b[1;32m    494\u001b[0m         \u001b[38;5;124m\"\u001b[39m\u001b[38;5;124mafter\u001b[39m\u001b[38;5;124m\"\u001b[39m, \u001b[38;5;124m\"\u001b[39m\u001b[38;5;124mstartup\u001b[39m\u001b[38;5;124m\"\u001b[39m, install_shutdown_handlers, \u001b[38;5;28mself\u001b[39m\u001b[38;5;241m.\u001b[39m_signal_shutdown\n\u001b[1;32m    495\u001b[0m     )\n\u001b[0;32m--> 496\u001b[0m \u001b[43mreactor\u001b[49m\u001b[38;5;241;43m.\u001b[39;49m\u001b[43mrun\u001b[49m\u001b[43m(\u001b[49m\u001b[43minstallSignalHandlers\u001b[49m\u001b[38;5;241;43m=\u001b[39;49m\u001b[43minstall_signal_handlers\u001b[49m\u001b[43m)\u001b[49m\n",
      "File \u001b[0;32m~/.local/lib/python3.10/site-packages/twisted/internet/base.py:695\u001b[0m, in \u001b[0;36mReactorBase.run\u001b[0;34m(self, installSignalHandlers)\u001b[0m\n\u001b[1;32m    694\u001b[0m \u001b[38;5;28;01mdef\u001b[39;00m\u001b[38;5;250m \u001b[39m\u001b[38;5;21mrun\u001b[39m(\u001b[38;5;28mself\u001b[39m, installSignalHandlers: \u001b[38;5;28mbool\u001b[39m \u001b[38;5;241m=\u001b[39m \u001b[38;5;28;01mTrue\u001b[39;00m) \u001b[38;5;241m-\u001b[39m\u001b[38;5;241m>\u001b[39m \u001b[38;5;28;01mNone\u001b[39;00m:\n\u001b[0;32m--> 695\u001b[0m     \u001b[38;5;28;43mself\u001b[39;49m\u001b[38;5;241;43m.\u001b[39;49m\u001b[43mstartRunning\u001b[49m\u001b[43m(\u001b[49m\u001b[43minstallSignalHandlers\u001b[49m\u001b[38;5;241;43m=\u001b[39;49m\u001b[43minstallSignalHandlers\u001b[49m\u001b[43m)\u001b[49m\n\u001b[1;32m    696\u001b[0m     \u001b[38;5;28;01mtry\u001b[39;00m:\n\u001b[1;32m    697\u001b[0m         \u001b[38;5;28mself\u001b[39m\u001b[38;5;241m.\u001b[39mmainLoop()\n",
      "File \u001b[0;32m~/.local/lib/python3.10/site-packages/twisted/internet/base.py:926\u001b[0m, in \u001b[0;36mReactorBase.startRunning\u001b[0;34m(self, installSignalHandlers)\u001b[0m\n\u001b[1;32m    924\u001b[0m     \u001b[38;5;28;01mraise\u001b[39;00m error\u001b[38;5;241m.\u001b[39mReactorAlreadyRunning()\n\u001b[1;32m    925\u001b[0m \u001b[38;5;28;01mif\u001b[39;00m \u001b[38;5;28mself\u001b[39m\u001b[38;5;241m.\u001b[39m_startedBefore:\n\u001b[0;32m--> 926\u001b[0m     \u001b[38;5;28;01mraise\u001b[39;00m error\u001b[38;5;241m.\u001b[39mReactorNotRestartable()\n\u001b[1;32m    928\u001b[0m \u001b[38;5;28mself\u001b[39m\u001b[38;5;241m.\u001b[39m_signals\u001b[38;5;241m.\u001b[39muninstall()\n\u001b[1;32m    929\u001b[0m \u001b[38;5;28mself\u001b[39m\u001b[38;5;241m.\u001b[39m_installSignalHandlers \u001b[38;5;241m=\u001b[39m installSignalHandlers\n",
      "\u001b[0;31mReactorNotRestartable\u001b[0m: "
     ]
    }
   ],
   "source": [
    "# import scrapy.crawler\n",
    "    \n",
    "# process = scrapy.crawler.CrawlerProcess({\n",
    "#     'USER_AGENT': 'Mozilla/5.0',\n",
    "#     'FEEDS': {\n",
    "#         \"artists.json\": {\"format\": \"json\"},\n",
    "#     },\n",
    "# })\n",
    "# process.crawl(WikipediaSpider)\n",
    "# process.start()\n",
    "# process.stop()\n"
   ]
  },
  {
   "cell_type": "code",
   "execution_count": 37,
   "id": "e19e61d3",
   "metadata": {},
   "outputs": [
    {
     "name": "stderr",
     "output_type": "stream",
     "text": [
      "2025-01-20 19:04:34 [scrapy.core.engine] INFO: Closing spider (shutdown)\n",
      "2025-01-20 19:04:34 [scrapy.extensions.feedexport] INFO: Stored json feed (0 items) in: artists.json\n",
      "2025-01-20 19:04:34 [scrapy.statscollectors] INFO: Dumping Scrapy stats:\n",
      "{'elapsed_time_seconds': 50.886055,\n",
      " 'feedexport/success_count/FileFeedStorage': 1,\n",
      " 'finish_reason': 'shutdown',\n",
      " 'finish_time': datetime.datetime(2025, 1, 20, 16, 4, 34, 810483, tzinfo=datetime.timezone.utc),\n",
      " 'items_per_minute': None,\n",
      " 'log_count/DEBUG': 1,\n",
      " 'log_count/INFO': 11,\n",
      " 'memusage/max': 134254592,\n",
      " 'memusage/startup': 134254592,\n",
      " 'responses_per_minute': None,\n",
      " 'start_time': datetime.datetime(2025, 1, 20, 16, 3, 43, 924428, tzinfo=datetime.timezone.utc)}\n",
      "2025-01-20 19:04:34 [scrapy.core.engine] INFO: Spider closed (shutdown)\n"
     ]
    },
    {
     "data": {
      "text/plain": [
       "<DeferredList at 0x7fc008659ea0 current result: [(True, None)]>"
      ]
     },
     "execution_count": 37,
     "metadata": {},
     "output_type": "execute_result"
    }
   ],
   "source": [
    "process.stop()"
   ]
  }
 ],
 "metadata": {
  "kernelspec": {
   "display_name": "Python 3",
   "language": "python",
   "name": "python3"
  },
  "language_info": {
   "codemirror_mode": {
    "name": "ipython",
    "version": 3
   },
   "file_extension": ".py",
   "mimetype": "text/x-python",
   "name": "python",
   "nbconvert_exporter": "python",
   "pygments_lexer": "ipython3",
   "version": "3.10.12"
  }
 },
 "nbformat": 4,
 "nbformat_minor": 5
}
