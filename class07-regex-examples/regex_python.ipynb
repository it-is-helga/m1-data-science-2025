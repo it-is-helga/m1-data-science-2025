{
 "cells": [
  {
   "cell_type": "code",
   "execution_count": 34,
   "id": "9023a2e4",
   "metadata": {},
   "outputs": [],
   "source": [
    "import re"
   ]
  },
  {
   "cell_type": "code",
   "execution_count": 38,
   "id": "35366077",
   "metadata": {},
   "outputs": [
    {
     "name": "stdout",
     "output_type": "stream",
     "text": [
      "<re.Match object; span=(0, 17), match='fniejnf@gmail.com'>\n",
      "None\n"
     ]
    }
   ],
   "source": [
    "simple_email_regex = re.compile(\"\\w+@(\\w+\\.)+\\w+\")\n",
    "\n",
    "print(simple_email_regex.match(\"fniejnf@gmail.com\"))\n",
    "print(simple_email_regex.match(\"fniejnfefijoejfgmail.com\"))\n",
    "\n",
    "    "
   ]
  },
  {
   "cell_type": "code",
   "execution_count": 39,
   "id": "c4828356",
   "metadata": {},
   "outputs": [
    {
     "name": "stdout",
     "output_type": "stream",
     "text": [
      "0 5 <re.Match object; span=(0, 5), match='Hello'>\n",
      "None\n",
      "(7, 9)\n"
     ]
    }
   ],
   "source": [
    "words = re.compile(\"\\w+\")\n",
    "found = words.match(\"Hello, Re!\")\n",
    "\n",
    "\n",
    "if found:\n",
    "    print(found.start(), found.end(), found)\n",
    "print(words.match(\"Hello, Re!\", endpos=0))\n",
    "print(words.match(\"Hello, Re!\", pos=7).span())"
   ]
  },
  {
   "cell_type": "code",
   "execution_count": 64,
   "id": "59b4a7c7",
   "metadata": {},
   "outputs": [],
   "source": [
    "regex = re.compile(r\"(\\w+)\\W+\\1$\")"
   ]
  },
  {
   "cell_type": "code",
   "execution_count": 65,
   "id": "e4a1c854",
   "metadata": {},
   "outputs": [],
   "source": [
    "s1 = \"Hello, world!\"\n",
    "s2 = \"Hello, Hello!\"\n",
    "s3 = \"Hello, Hello\"\n",
    "s4 = \"aaa aaa\""
   ]
  },
  {
   "cell_type": "code",
   "execution_count": 66,
   "id": "702798c9",
   "metadata": {},
   "outputs": [],
   "source": [
    "result = regex.match(s1)"
   ]
  },
  {
   "cell_type": "code",
   "execution_count": 67,
   "id": "55c5ce48",
   "metadata": {},
   "outputs": [
    {
     "name": "stdout",
     "output_type": "stream",
     "text": [
      "None\n"
     ]
    }
   ],
   "source": [
    "print(result)"
   ]
  },
  {
   "cell_type": "code",
   "execution_count": 68,
   "id": "ef9394e9",
   "metadata": {},
   "outputs": [],
   "source": [
    "result = regex.match(s2)"
   ]
  },
  {
   "cell_type": "code",
   "execution_count": 69,
   "id": "3ff02ef3",
   "metadata": {},
   "outputs": [
    {
     "name": "stdout",
     "output_type": "stream",
     "text": [
      "None\n"
     ]
    }
   ],
   "source": [
    "print(result)"
   ]
  },
  {
   "cell_type": "code",
   "execution_count": 70,
   "id": "130ade1e",
   "metadata": {},
   "outputs": [],
   "source": [
    "result = regex.match(s3)"
   ]
  },
  {
   "cell_type": "code",
   "execution_count": 71,
   "id": "79e096aa",
   "metadata": {},
   "outputs": [
    {
     "name": "stdout",
     "output_type": "stream",
     "text": [
      "<re.Match object; span=(0, 12), match='Hello, Hello'>\n"
     ]
    }
   ],
   "source": [
    "print(result)"
   ]
  },
  {
   "cell_type": "code",
   "execution_count": 72,
   "id": "cd3f4798",
   "metadata": {},
   "outputs": [
    {
     "name": "stdout",
     "output_type": "stream",
     "text": [
      "<re.Match object; span=(0, 7), match='aaa aaa'>\n"
     ]
    }
   ],
   "source": [
    "print(regex.match(s4))"
   ]
  },
  {
   "cell_type": "code",
   "execution_count": 73,
   "id": "46a548e8",
   "metadata": {},
   "outputs": [
    {
     "data": {
      "text/plain": [
       "re.Match"
      ]
     },
     "execution_count": 73,
     "metadata": {},
     "output_type": "execute_result"
    }
   ],
   "source": [
    "type(found)\n"
   ]
  },
  {
   "cell_type": "code",
   "execution_count": 74,
   "id": "c839bdb2",
   "metadata": {},
   "outputs": [
    {
     "data": {
      "text/plain": [
       "['__class__',\n",
       " '__copy__',\n",
       " '__deepcopy__',\n",
       " '__delattr__',\n",
       " '__dir__',\n",
       " '__doc__',\n",
       " '__eq__',\n",
       " '__format__',\n",
       " '__ge__',\n",
       " '__getattribute__',\n",
       " '__getitem__',\n",
       " '__gt__',\n",
       " '__hash__',\n",
       " '__init__',\n",
       " '__init_subclass__',\n",
       " '__le__',\n",
       " '__lt__',\n",
       " '__ne__',\n",
       " '__new__',\n",
       " '__reduce__',\n",
       " '__reduce_ex__',\n",
       " '__repr__',\n",
       " '__setattr__',\n",
       " '__sizeof__',\n",
       " '__str__',\n",
       " '__subclasshook__',\n",
       " 'end',\n",
       " 'endpos',\n",
       " 'expand',\n",
       " 'group',\n",
       " 'groupdict',\n",
       " 'groups',\n",
       " 'lastgroup',\n",
       " 'lastindex',\n",
       " 'pos',\n",
       " 're',\n",
       " 'regs',\n",
       " 'span',\n",
       " 'start',\n",
       " 'string']"
      ]
     },
     "execution_count": 74,
     "metadata": {},
     "output_type": "execute_result"
    }
   ],
   "source": [
    "dir(found)"
   ]
  },
  {
   "cell_type": "code",
   "execution_count": 75,
   "id": "bd9f7a6d",
   "metadata": {},
   "outputs": [
    {
     "data": {
      "text/plain": [
       "'Hello'"
      ]
     },
     "execution_count": 75,
     "metadata": {},
     "output_type": "execute_result"
    }
   ],
   "source": [
    "found.group()"
   ]
  },
  {
   "cell_type": "code",
   "execution_count": 76,
   "id": "aca5638a",
   "metadata": {},
   "outputs": [],
   "source": [
    "match_s4 = regex.match(s4)"
   ]
  },
  {
   "cell_type": "code",
   "execution_count": 77,
   "id": "5a53a97f",
   "metadata": {},
   "outputs": [
    {
     "data": {
      "text/plain": [
       "('aaa',)"
      ]
     },
     "execution_count": 77,
     "metadata": {},
     "output_type": "execute_result"
    }
   ],
   "source": [
    "match_s4.groups()"
   ]
  },
  {
   "cell_type": "code",
   "execution_count": 92,
   "id": "e853f9db",
   "metadata": {},
   "outputs": [
    {
     "name": "stdout",
     "output_type": "stream",
     "text": [
      "group example\n",
      "abbbcd\n",
      "('acd', 'ac', 'acd')\n",
      "('abc', 'b')\n"
     ]
    }
   ],
   "source": [
    "p = re.compile('(a(b)*c)d')\n",
    "print(\"group example\")\n",
    "print(p.match('abbbcd').group(0))\n",
    "print(p.match('acd').group(0, 1, 0))\n",
    "print(p.match('abcd').groups())\n",
    "\n",
    "    "
   ]
  },
  {
   "cell_type": "code",
   "execution_count": 91,
   "id": "2c21f841",
   "metadata": {},
   "outputs": [],
   "source": []
  },
  {
   "cell_type": "code",
   "execution_count": 100,
   "id": "7a57eb1c",
   "metadata": {},
   "outputs": [
    {
     "name": "stdout",
     "output_type": "stream",
     "text": [
      "twice twice\n",
      "<re.Match object; span=(0, 13), match='Ahahah Ahahah'>\n",
      "Homework is bad!\n"
     ]
    }
   ],
   "source": [
    "p = re.compile(r'(\\b\\w+)\\s+\\1')  # boundary, word, whitespace, \\1\n",
    "print(p.search('Word repeated twice twice').group())\n",
    "print(p.search(\"Ahahah Ahahah\"))\n",
    "print(re.sub(\"not.*good\", 'bad', \"Homework is not so good, not good!\"))\n"
   ]
  },
  {
   "cell_type": "code",
   "execution_count": 101,
   "id": "83e5d569",
   "metadata": {},
   "outputs": [
    {
     "name": "stdout",
     "output_type": "stream",
     "text": [
      "Homework is bad, bad!\n"
     ]
    }
   ],
   "source": [
    "p = re.compile(\"not.*?good\")\n",
    "print(p.sub('bad', \"Homework is not so good, not good!\", count=2))"
   ]
  },
  {
   "cell_type": "code",
   "execution_count": 103,
   "id": "33cc28b2",
   "metadata": {},
   "outputs": [
    {
     "name": "stdout",
     "output_type": "stream",
     "text": [
      "['Students', 'welcome', 'to', 're', 'world', '']\n",
      "[', ', ' ', ' ', ' ', '!']\n"
     ]
    }
   ],
   "source": [
    "p = re.compile('\\W+')\n",
    "print(p.split('Students, welcome to re world!'))\n",
    "print(p.findall('Students, welcome to re world!'))"
   ]
  },
  {
   "cell_type": "code",
   "execution_count": 104,
   "id": "858b642a",
   "metadata": {},
   "outputs": [
    {
     "name": "stdout",
     "output_type": "stream",
     "text": [
      "['Привет', 'из', 'России']\n"
     ]
    }
   ],
   "source": [
    "russian = re.compile('[а-яА-Я]+')\n",
    "print(russian.findall('Привет из России'))"
   ]
  },
  {
   "cell_type": "code",
   "execution_count": 105,
   "id": "a27e1d39",
   "metadata": {},
   "outputs": [
    {
     "name": "stdout",
     "output_type": "stream",
     "text": [
      "['Привет', 'из', 'России']\n"
     ]
    }
   ],
   "source": [
    "p = re.compile('\\w+')\n",
    "print(p.findall('Привет из России'))"
   ]
  },
  {
   "cell_type": "code",
   "execution_count": 129,
   "id": "d47c0ae0",
   "metadata": {},
   "outputs": [
    {
     "name": "stdout",
     "output_type": "stream",
     "text": [
      "[('', '', '123'), ('', '012347', ''), ('0xdba', '', '')]\n"
     ]
    }
   ],
   "source": [
    "charref = re.compile(r\"\"\"\n",
    "                # Comment starts with #\n",
    "   (0x[0-9a-fA-F]+)  # Hexadecimal form\n",
    "   |  (0[0-7]+)         # Octal form\n",
    "   | ([0-9]+)          # Decimal form\n",
    "   \n",
    "\"\"\", re.VERBOSE)\n",
    "print(charref.findall(\"123 012347 0xdba hello\"))\n"
   ]
  },
  {
   "cell_type": "code",
   "execution_count": 123,
   "id": "59264423",
   "metadata": {},
   "outputs": [
    {
     "name": "stdout",
     "output_type": "stream",
     "text": [
      "[('', '', '123'), ('', '012347', ''), ('0xdba', '', '')]\n"
     ]
    }
   ],
   "source": [
    "charref = re.compile(r\"(0x[0-9a-fA-F]+)|(0[0-7]+)|([0-9]+)\", re.VERBOSE)\n",
    "print(charref.findall(\"123 012347 0xdba hello\"))"
   ]
  },
  {
   "cell_type": "code",
   "execution_count": 125,
   "id": "3921055a",
   "metadata": {},
   "outputs": [
    {
     "name": "stdout",
     "output_type": "stream",
     "text": [
      "Emmanuel\n"
     ]
    }
   ],
   "source": [
    "print(re.search('Emmanuel(?! Macron)', 'Emmanuel Hello').group())"
   ]
  },
  {
   "cell_type": "code",
   "execution_count": 127,
   "id": "15827c83",
   "metadata": {},
   "outputs": [
    {
     "name": "stdout",
     "output_type": "stream",
     "text": [
      "None\n"
     ]
    }
   ],
   "source": [
    "print(re.search('Emmanuel(?! Macron)', 'Emmanuel Macron'))"
   ]
  },
  {
   "cell_type": "code",
   "execution_count": null,
   "id": "f01b0d19",
   "metadata": {},
   "outputs": [],
   "source": [
    "# Real world example IPv4\n",
    "# ^(?:(?:25[0-5]|2[0-4][0-9]|[01]?[0-9][0-9]?)\\.){3}\n",
    "# (?:25[0-5]|2[0-4][0-9]|[01]?[0-9][0-9]?)$"
   ]
  }
 ],
 "metadata": {
  "kernelspec": {
   "display_name": "Python 3 (ipykernel)",
   "language": "python",
   "name": "python3"
  },
  "language_info": {
   "codemirror_mode": {
    "name": "ipython",
    "version": 3
   },
   "file_extension": ".py",
   "mimetype": "text/x-python",
   "name": "python",
   "nbconvert_exporter": "python",
   "pygments_lexer": "ipython3",
   "version": "3.8.10"
  }
 },
 "nbformat": 4,
 "nbformat_minor": 5
}
